{
  "nbformat": 4,
  "nbformat_minor": 0,
  "metadata": {
    "colab": {
      "name": "LS_DS_124_Sequence_your_narrative.ipynb",
      "version": "0.3.2",
      "provenance": [],
      "include_colab_link": true
    },
    "kernelspec": {
      "display_name": "Python 3",
      "language": "python",
      "name": "python3"
    }
  },
  "cells": [
    {
      "cell_type": "markdown",
      "metadata": {
        "id": "view-in-github",
        "colab_type": "text"
      },
      "source": [
        "<a href=\"https://colab.research.google.com/github/BrianBehnke/DS-Sprint-02-Storytelling-With-Data/blob/master/module4-sequence-your-narrative/LS_DS_124_Sequence_your_narrative.ipynb\" target=\"_parent\"><img src=\"https://colab.research.google.com/assets/colab-badge.svg\" alt=\"Open In Colab\"/></a>"
      ]
    },
    {
      "metadata": {
        "id": "0OodU3Q-WaRZ",
        "colab_type": "text"
      },
      "cell_type": "markdown",
      "source": [
        "_Lambda School Data Science_\n",
        "\n",
        "# Sequence your narrative\n",
        "\n",
        "Create a sequence of visualizations inspired by [Hans Rosling's 200 Countries, 200 Years, 4 Minutes](https://www.youtube.com/watch?v=jbkSRLYSojo).\n",
        "\n",
        "Using this [data from Gapminder](https://github.com/open-numbers/ddf--gapminder--systema_globalis/):\n",
        "-https://raw.githubusercontent.com/open-numbers/ddf--gapminder--systema_globalis/master/ddf--datapoints--income_per_person_gdppercapita_ppp_inflation_adjusted--by--geo--time.csv\n",
        "\n",
        "-https://raw.githubusercontent.com/open-numbers/ddf--gapminder--systema_globalis/master/ddf--datapoints--life_expectancy_years--by--geo--time.csv\n",
        "\n",
        "-https://raw.githubusercontent.com/open-numbers/ddf--gapminder--systema_globalis/master/ddf--datapoints--population_total--by--geo--time.csv\n",
        "\n",
        "-https://raw.githubusercontent.com/open-numbers/ddf--gapminder--systema_globalis/master/ddf--entities--geo--country.csv\n",
        "\n",
        "-https://raw.githubusercontent.com/open-numbers/ddf--gapminder--systema_globalis/master/ddf--concepts.csv\n",
        "\n",
        "\n",
        "\n",
        "### Stretch goals\n",
        "- [ipywidgets](https://github.com/jupyter-widgets/ipywidgets)\n",
        "- [Matplotlib animation](https://matplotlib.org/examples/animation/index.html)\n",
        "- [Connected scatter plots](http://www.thefunctionalart.com/2012/09/in-praise-of-connected-scatter-plots.html)\n",
        "- [Idyll markup language](https://idyll-lang.org/) for \"scrollytelling\""
      ]
    },
    {
      "metadata": {
        "id": "Wa2OaAK-a26b",
        "colab_type": "text"
      },
      "cell_type": "markdown",
      "source": [
        "Merge data cheatsheet: https://github.com/pandas-dev/pandas/blob/master/doc/cheatsheet/Pandas_Cheat_Sheet.pdf"
      ]
    },
    {
      "metadata": {
        "id": "DfvcN3N7WaRb",
        "colab_type": "code",
        "colab": {}
      },
      "cell_type": "code",
      "source": [
        "import pandas as pd\n",
        "import numpy as np\n",
        "import matplotlib.pyplot as plt\n",
        "%matplotlib inline"
      ],
      "execution_count": 0,
      "outputs": []
    },
    {
      "metadata": {
        "id": "wMkXbWW-56JI",
        "colab_type": "code",
        "colab": {}
      },
      "cell_type": "code",
      "source": [
        "!pip install --upgrade seaborn"
      ],
      "execution_count": 0,
      "outputs": []
    },
    {
      "metadata": {
        "id": "KM50xV655-Kg",
        "colab_type": "code",
        "colab": {
          "base_uri": "https://localhost:8080/",
          "height": 34
        },
        "outputId": "5219d2b4-0b4f-48b4-d1b8-15c3458d9372"
      },
      "cell_type": "code",
      "source": [
        "import seaborn as sns\n",
        "sns.__version__"
      ],
      "execution_count": 2,
      "outputs": [
        {
          "output_type": "execute_result",
          "data": {
            "text/plain": [
              "'0.9.0'"
            ]
          },
          "metadata": {
            "tags": []
          },
          "execution_count": 2
        }
      ]
    },
    {
      "metadata": {
        "id": "cy1k0w6Fx5uJ",
        "colab_type": "code",
        "colab": {
          "base_uri": "https://localhost:8080/",
          "height": 34
        },
        "outputId": "eb5f73e1-927a-47e2-f0d1-4ad30b904d6f"
      },
      "cell_type": "code",
      "source": [
        "income=pd.read_csv('https://raw.githubusercontent.com/open-numbers/ddf--gapminder--systema_globalis/master/ddf--datapoints--income_per_person_gdppercapita_ppp_inflation_adjusted--by--geo--time.csv')\n",
        "lifespan=pd.read_csv('https://raw.githubusercontent.com/open-numbers/ddf--gapminder--systema_globalis/master/ddf--datapoints--life_expectancy_years--by--geo--time.csv')\n",
        "entities=pd.read_csv('https://raw.githubusercontent.com/open-numbers/ddf--gapminder--systema_globalis/master/ddf--entities--geo--country.csv')\n",
        "concepts=pd.read_csv('https://raw.githubusercontent.com/open-numbers/ddf--gapminder--systema_globalis/master/ddf--concepts.csv')\n",
        "population=pd.read_csv('https://raw.githubusercontent.com/open-numbers/ddf--gapminder--systema_globalis/master/ddf--datapoints--population_total--by--geo--time.csv')\n",
        "\n",
        "income.shape, lifespan.shape, population.shape, entities.shape, concepts.shape"
      ],
      "execution_count": 3,
      "outputs": [
        {
          "output_type": "execute_result",
          "data": {
            "text/plain": [
              "((44268, 3), (44370, 3), (51939, 3), (273, 33), (590, 16))"
            ]
          },
          "metadata": {
            "tags": []
          },
          "execution_count": 3
        }
      ]
    },
    {
      "metadata": {
        "id": "WnX8nZV2ACSL",
        "colab_type": "code",
        "colab": {
          "base_uri": "https://localhost:8080/",
          "height": 1632
        },
        "outputId": "0c11da37-a97d-4936-ad0e-cbbe0ee63d50"
      },
      "cell_type": "code",
      "source": [
        "print(income.head())\n",
        "print(lifespan.head())\n",
        "print(population.head())\n",
        "print(entities.head())\n",
        "print(concepts.head())"
      ],
      "execution_count": 5,
      "outputs": [
        {
          "output_type": "stream",
          "text": [
            "   geo  time  income_per_person_gdppercapita_ppp_inflation_adjusted\n",
            "0  abw  1800                                                833    \n",
            "1  abw  1801                                                833    \n",
            "2  abw  1802                                                833    \n",
            "3  abw  1803                                                833    \n",
            "4  abw  1804                                                833    \n",
            "   geo  time  life_expectancy_years\n",
            "0  abw  1800                  34.42\n",
            "1  abw  1801                  34.42\n",
            "2  abw  1802                  34.42\n",
            "3  abw  1803                  34.42\n",
            "4  abw  1804                  34.42\n",
            "   geo  time  population_total\n",
            "0  abw  1800             19286\n",
            "1  abw  1801             19286\n",
            "2  abw  1802             19286\n",
            "3  abw  1803             19286\n",
            "4  abw  1804             19286\n",
            "  country alt_5                    alternative_1 alternative_2 alternative_3  \\\n",
            "0    abkh   NaN                              NaN           NaN           NaN   \n",
            "1     abw   NaN                              NaN           NaN           NaN   \n",
            "2     afg   NaN  Islamic Republic of Afghanistan           NaN           NaN   \n",
            "3     ago   NaN                              NaN           NaN           NaN   \n",
            "4     aia   NaN                              NaN           NaN           NaN   \n",
            "\n",
            "  alternative_4_cdiac arb1 arb2 arb3 arb4         ...           latitude  \\\n",
            "0                 NaN  NaN  NaN  NaN  NaN         ...                NaN   \n",
            "1               Aruba  NaN  NaN  NaN  NaN         ...           12.50000   \n",
            "2         Afghanistan  NaN  NaN  NaN  NaN         ...           33.00000   \n",
            "3              Angola  NaN  NaN  NaN  NaN         ...          -12.50000   \n",
            "4                 NaN  NaN  NaN  NaN  NaN         ...           18.21667   \n",
            "\n",
            "  longitude main_religion_2008         name        pandg un_state  \\\n",
            "0       NaN                NaN     Abkhazia          NaN    False   \n",
            "1 -69.96667          christian        Aruba          NaN    False   \n",
            "2  66.00000             muslim  Afghanistan  AFGHANISTAN     True   \n",
            "3  18.50000          christian       Angola       ANGOLA     True   \n",
            "4 -63.05000          christian     Anguilla          NaN    False   \n",
            "\n",
            "  unicode_region_subtag  upper_case_name world_4region        world_6region  \n",
            "0                   NaN              NaN        europe  europe_central_asia  \n",
            "1                    AW            ARUBA      americas              america  \n",
            "2                    AF      AFGHANISTAN          asia           south_asia  \n",
            "3                    AO           ANGOLA        africa   sub_saharan_africa  \n",
            "4                    AI         ANGUILLA      americas              america  \n",
            "\n",
            "[5 rows x 33 columns]\n",
            "                                             concept color concept_type  \\\n",
            "0                  adults_with_hiv_percent_age_15_49   NaN      measure   \n",
            "1                          age_at_1st_marriage_women   NaN      measure   \n",
            "2                 aged_15_24_employment_rate_percent   NaN      measure   \n",
            "3               aged_15_24_unemployment_rate_percent   NaN      measure   \n",
            "4  aged_15_64_labour_force_participation_rate_per...   NaN      measure   \n",
            "\n",
            "                                         description description_long domain  \\\n",
            "0  The estimated percentage of adults aged 15 to ...              NaN    NaN   \n",
            "1  The mean age, in years, of first marriage for ...              NaN    NaN   \n",
            "2  Percentage of total population, age group 15-2...              NaN    NaN   \n",
            "3  Percentage of total population, age group 15-2...              NaN    NaN   \n",
            "4  For age group 15-64, percentage of all labour ...              NaN    NaN   \n",
            "\n",
            "  drill_up indicator_url                                            name  \\\n",
            "0      NaN           NaN                  Adults with HIV (%, age 15-49)   \n",
            "1      NaN           NaN                     Age at 1st marriage (women)   \n",
            "2      NaN           NaN                  Aged 15-24 employment rate (%)   \n",
            "3      NaN           NaN                Aged 15-24 unemployment rate (%)   \n",
            "4      NaN           NaN  Aged 15-64 labour force participation rate (%)   \n",
            "\n",
            "                     name_catalog                           name_short  \\\n",
            "0  Adults with HIV (%, age 15-49)                      Adults with HIV   \n",
            "1     Age at 1st marriage (women)                  Age at 1st marriage   \n",
            "2                      Aged 15-24                  Employment rate (%)   \n",
            "3                      Aged 15-24                Unemployment rate (%)   \n",
            "4                      Aged 15-64  Labour force participation rate (%)   \n",
            "\n",
            "              scales source source_long  \\\n",
            "0  [\"log\", \"linear\"]    NaN         NaN   \n",
            "1  [\"linear\", \"log\"]    NaN         NaN   \n",
            "2  [\"linear\", \"log\"]    NaN         NaN   \n",
            "3  [\"linear\", \"log\"]    NaN         NaN   \n",
            "4  [\"linear\", \"log\"]    NaN         NaN   \n",
            "\n",
            "                                          source_url  \\\n",
            "0  http://www.gapminder.org/gapminder-world/docum...   \n",
            "1  http://spreadsheets.google.com/pub?key=t4eF8H_...   \n",
            "2  http://ilo.org/legacy/english/global-reports/k...   \n",
            "3  http://ilo.org/legacy/english/global-reports/k...   \n",
            "4  http://ilo.org/legacy/english/global-reports/k...   \n",
            "\n",
            "                         tags  \n",
            "0                         hiv  \n",
            "1                  population  \n",
            "2             employment_rate  \n",
            "3                unemployment  \n",
            "4  labour_force_participation  \n"
          ],
          "name": "stdout"
        }
      ]
    },
    {
      "metadata": {
        "id": "xqw7CBqFCdI-",
        "colab_type": "code",
        "colab": {
          "base_uri": "https://localhost:8080/",
          "height": 204
        },
        "outputId": "00434843-ae70-452f-811b-6a41be944926"
      },
      "cell_type": "code",
      "source": [
        "df = pd.merge(income, lifespan)\n",
        "df.head()"
      ],
      "execution_count": 6,
      "outputs": [
        {
          "output_type": "execute_result",
          "data": {
            "text/html": [
              "<div>\n",
              "<style scoped>\n",
              "    .dataframe tbody tr th:only-of-type {\n",
              "        vertical-align: middle;\n",
              "    }\n",
              "\n",
              "    .dataframe tbody tr th {\n",
              "        vertical-align: top;\n",
              "    }\n",
              "\n",
              "    .dataframe thead th {\n",
              "        text-align: right;\n",
              "    }\n",
              "</style>\n",
              "<table border=\"1\" class=\"dataframe\">\n",
              "  <thead>\n",
              "    <tr style=\"text-align: right;\">\n",
              "      <th></th>\n",
              "      <th>geo</th>\n",
              "      <th>time</th>\n",
              "      <th>income_per_person_gdppercapita_ppp_inflation_adjusted</th>\n",
              "      <th>life_expectancy_years</th>\n",
              "    </tr>\n",
              "  </thead>\n",
              "  <tbody>\n",
              "    <tr>\n",
              "      <th>0</th>\n",
              "      <td>abw</td>\n",
              "      <td>1800</td>\n",
              "      <td>833</td>\n",
              "      <td>34.42</td>\n",
              "    </tr>\n",
              "    <tr>\n",
              "      <th>1</th>\n",
              "      <td>abw</td>\n",
              "      <td>1801</td>\n",
              "      <td>833</td>\n",
              "      <td>34.42</td>\n",
              "    </tr>\n",
              "    <tr>\n",
              "      <th>2</th>\n",
              "      <td>abw</td>\n",
              "      <td>1802</td>\n",
              "      <td>833</td>\n",
              "      <td>34.42</td>\n",
              "    </tr>\n",
              "    <tr>\n",
              "      <th>3</th>\n",
              "      <td>abw</td>\n",
              "      <td>1803</td>\n",
              "      <td>833</td>\n",
              "      <td>34.42</td>\n",
              "    </tr>\n",
              "    <tr>\n",
              "      <th>4</th>\n",
              "      <td>abw</td>\n",
              "      <td>1804</td>\n",
              "      <td>833</td>\n",
              "      <td>34.42</td>\n",
              "    </tr>\n",
              "  </tbody>\n",
              "</table>\n",
              "</div>"
            ],
            "text/plain": [
              "   geo  time  income_per_person_gdppercapita_ppp_inflation_adjusted  \\\n",
              "0  abw  1800                                                833       \n",
              "1  abw  1801                                                833       \n",
              "2  abw  1802                                                833       \n",
              "3  abw  1803                                                833       \n",
              "4  abw  1804                                                833       \n",
              "\n",
              "   life_expectancy_years  \n",
              "0                  34.42  \n",
              "1                  34.42  \n",
              "2                  34.42  \n",
              "3                  34.42  \n",
              "4                  34.42  "
            ]
          },
          "metadata": {
            "tags": []
          },
          "execution_count": 6
        }
      ]
    },
    {
      "metadata": {
        "id": "f_-1_FNSC85G",
        "colab_type": "code",
        "colab": {}
      },
      "cell_type": "code",
      "source": [
        "entities[entities.country=='abw'].T"
      ],
      "execution_count": 0,
      "outputs": []
    },
    {
      "metadata": {
        "id": "pyvrl_IfDBF9",
        "colab_type": "code",
        "colab": {
          "base_uri": "https://localhost:8080/",
          "height": 204
        },
        "outputId": "9ada0efb-d881-4f39-8a39-697b8fa08714"
      },
      "cell_type": "code",
      "source": [
        "variables = ['country', 'name', 'world_6region']\n",
        "entities[variables].head()"
      ],
      "execution_count": 8,
      "outputs": [
        {
          "output_type": "execute_result",
          "data": {
            "text/html": [
              "<div>\n",
              "<style scoped>\n",
              "    .dataframe tbody tr th:only-of-type {\n",
              "        vertical-align: middle;\n",
              "    }\n",
              "\n",
              "    .dataframe tbody tr th {\n",
              "        vertical-align: top;\n",
              "    }\n",
              "\n",
              "    .dataframe thead th {\n",
              "        text-align: right;\n",
              "    }\n",
              "</style>\n",
              "<table border=\"1\" class=\"dataframe\">\n",
              "  <thead>\n",
              "    <tr style=\"text-align: right;\">\n",
              "      <th></th>\n",
              "      <th>country</th>\n",
              "      <th>name</th>\n",
              "      <th>world_6region</th>\n",
              "    </tr>\n",
              "  </thead>\n",
              "  <tbody>\n",
              "    <tr>\n",
              "      <th>0</th>\n",
              "      <td>abkh</td>\n",
              "      <td>Abkhazia</td>\n",
              "      <td>europe_central_asia</td>\n",
              "    </tr>\n",
              "    <tr>\n",
              "      <th>1</th>\n",
              "      <td>abw</td>\n",
              "      <td>Aruba</td>\n",
              "      <td>america</td>\n",
              "    </tr>\n",
              "    <tr>\n",
              "      <th>2</th>\n",
              "      <td>afg</td>\n",
              "      <td>Afghanistan</td>\n",
              "      <td>south_asia</td>\n",
              "    </tr>\n",
              "    <tr>\n",
              "      <th>3</th>\n",
              "      <td>ago</td>\n",
              "      <td>Angola</td>\n",
              "      <td>sub_saharan_africa</td>\n",
              "    </tr>\n",
              "    <tr>\n",
              "      <th>4</th>\n",
              "      <td>aia</td>\n",
              "      <td>Anguilla</td>\n",
              "      <td>america</td>\n",
              "    </tr>\n",
              "  </tbody>\n",
              "</table>\n",
              "</div>"
            ],
            "text/plain": [
              "  country         name        world_6region\n",
              "0    abkh     Abkhazia  europe_central_asia\n",
              "1     abw        Aruba              america\n",
              "2     afg  Afghanistan           south_asia\n",
              "3     ago       Angola   sub_saharan_africa\n",
              "4     aia     Anguilla              america"
            ]
          },
          "metadata": {
            "tags": []
          },
          "execution_count": 8
        }
      ]
    },
    {
      "metadata": {
        "id": "XceGlyEjDGCm",
        "colab_type": "code",
        "colab": {
          "base_uri": "https://localhost:8080/",
          "height": 204
        },
        "outputId": "58dd655b-86ec-41d0-c5cc-9c2a9c9b9977"
      },
      "cell_type": "code",
      "source": [
        "df.head()"
      ],
      "execution_count": 9,
      "outputs": [
        {
          "output_type": "execute_result",
          "data": {
            "text/html": [
              "<div>\n",
              "<style scoped>\n",
              "    .dataframe tbody tr th:only-of-type {\n",
              "        vertical-align: middle;\n",
              "    }\n",
              "\n",
              "    .dataframe tbody tr th {\n",
              "        vertical-align: top;\n",
              "    }\n",
              "\n",
              "    .dataframe thead th {\n",
              "        text-align: right;\n",
              "    }\n",
              "</style>\n",
              "<table border=\"1\" class=\"dataframe\">\n",
              "  <thead>\n",
              "    <tr style=\"text-align: right;\">\n",
              "      <th></th>\n",
              "      <th>geo</th>\n",
              "      <th>time</th>\n",
              "      <th>income_per_person_gdppercapita_ppp_inflation_adjusted</th>\n",
              "      <th>life_expectancy_years</th>\n",
              "    </tr>\n",
              "  </thead>\n",
              "  <tbody>\n",
              "    <tr>\n",
              "      <th>0</th>\n",
              "      <td>abw</td>\n",
              "      <td>1800</td>\n",
              "      <td>833</td>\n",
              "      <td>34.42</td>\n",
              "    </tr>\n",
              "    <tr>\n",
              "      <th>1</th>\n",
              "      <td>abw</td>\n",
              "      <td>1801</td>\n",
              "      <td>833</td>\n",
              "      <td>34.42</td>\n",
              "    </tr>\n",
              "    <tr>\n",
              "      <th>2</th>\n",
              "      <td>abw</td>\n",
              "      <td>1802</td>\n",
              "      <td>833</td>\n",
              "      <td>34.42</td>\n",
              "    </tr>\n",
              "    <tr>\n",
              "      <th>3</th>\n",
              "      <td>abw</td>\n",
              "      <td>1803</td>\n",
              "      <td>833</td>\n",
              "      <td>34.42</td>\n",
              "    </tr>\n",
              "    <tr>\n",
              "      <th>4</th>\n",
              "      <td>abw</td>\n",
              "      <td>1804</td>\n",
              "      <td>833</td>\n",
              "      <td>34.42</td>\n",
              "    </tr>\n",
              "  </tbody>\n",
              "</table>\n",
              "</div>"
            ],
            "text/plain": [
              "   geo  time  income_per_person_gdppercapita_ppp_inflation_adjusted  \\\n",
              "0  abw  1800                                                833       \n",
              "1  abw  1801                                                833       \n",
              "2  abw  1802                                                833       \n",
              "3  abw  1803                                                833       \n",
              "4  abw  1804                                                833       \n",
              "\n",
              "   life_expectancy_years  \n",
              "0                  34.42  \n",
              "1                  34.42  \n",
              "2                  34.42  \n",
              "3                  34.42  \n",
              "4                  34.42  "
            ]
          },
          "metadata": {
            "tags": []
          },
          "execution_count": 9
        }
      ]
    },
    {
      "metadata": {
        "id": "MApCaVhCDNTE",
        "colab_type": "code",
        "colab": {}
      },
      "cell_type": "code",
      "source": [
        "df = pd.merge(df, population)"
      ],
      "execution_count": 0,
      "outputs": []
    },
    {
      "metadata": {
        "id": "F3_IAiwfDUY8",
        "colab_type": "code",
        "colab": {
          "base_uri": "https://localhost:8080/",
          "height": 204
        },
        "outputId": "b1e6a229-5d74-40ba-8b8f-64dd7821501a"
      },
      "cell_type": "code",
      "source": [
        "df.head()"
      ],
      "execution_count": 11,
      "outputs": [
        {
          "output_type": "execute_result",
          "data": {
            "text/html": [
              "<div>\n",
              "<style scoped>\n",
              "    .dataframe tbody tr th:only-of-type {\n",
              "        vertical-align: middle;\n",
              "    }\n",
              "\n",
              "    .dataframe tbody tr th {\n",
              "        vertical-align: top;\n",
              "    }\n",
              "\n",
              "    .dataframe thead th {\n",
              "        text-align: right;\n",
              "    }\n",
              "</style>\n",
              "<table border=\"1\" class=\"dataframe\">\n",
              "  <thead>\n",
              "    <tr style=\"text-align: right;\">\n",
              "      <th></th>\n",
              "      <th>geo</th>\n",
              "      <th>time</th>\n",
              "      <th>income_per_person_gdppercapita_ppp_inflation_adjusted</th>\n",
              "      <th>life_expectancy_years</th>\n",
              "      <th>population_total</th>\n",
              "    </tr>\n",
              "  </thead>\n",
              "  <tbody>\n",
              "    <tr>\n",
              "      <th>0</th>\n",
              "      <td>abw</td>\n",
              "      <td>1800</td>\n",
              "      <td>833</td>\n",
              "      <td>34.42</td>\n",
              "      <td>19286</td>\n",
              "    </tr>\n",
              "    <tr>\n",
              "      <th>1</th>\n",
              "      <td>abw</td>\n",
              "      <td>1801</td>\n",
              "      <td>833</td>\n",
              "      <td>34.42</td>\n",
              "      <td>19286</td>\n",
              "    </tr>\n",
              "    <tr>\n",
              "      <th>2</th>\n",
              "      <td>abw</td>\n",
              "      <td>1802</td>\n",
              "      <td>833</td>\n",
              "      <td>34.42</td>\n",
              "      <td>19286</td>\n",
              "    </tr>\n",
              "    <tr>\n",
              "      <th>3</th>\n",
              "      <td>abw</td>\n",
              "      <td>1803</td>\n",
              "      <td>833</td>\n",
              "      <td>34.42</td>\n",
              "      <td>19286</td>\n",
              "    </tr>\n",
              "    <tr>\n",
              "      <th>4</th>\n",
              "      <td>abw</td>\n",
              "      <td>1804</td>\n",
              "      <td>833</td>\n",
              "      <td>34.42</td>\n",
              "      <td>19286</td>\n",
              "    </tr>\n",
              "  </tbody>\n",
              "</table>\n",
              "</div>"
            ],
            "text/plain": [
              "   geo  time  income_per_person_gdppercapita_ppp_inflation_adjusted  \\\n",
              "0  abw  1800                                                833       \n",
              "1  abw  1801                                                833       \n",
              "2  abw  1802                                                833       \n",
              "3  abw  1803                                                833       \n",
              "4  abw  1804                                                833       \n",
              "\n",
              "   life_expectancy_years  population_total  \n",
              "0                  34.42             19286  \n",
              "1                  34.42             19286  \n",
              "2                  34.42             19286  \n",
              "3                  34.42             19286  \n",
              "4                  34.42             19286  "
            ]
          },
          "metadata": {
            "tags": []
          },
          "execution_count": 11
        }
      ]
    },
    {
      "metadata": {
        "id": "fCzMXpFsDV3F",
        "colab_type": "code",
        "colab": {
          "base_uri": "https://localhost:8080/",
          "height": 34
        },
        "outputId": "87d7661a-1f4a-4dc1-db77-20c64de574bf"
      },
      "cell_type": "code",
      "source": [
        "df = pd.merge(df, entities[variables], \n",
        "              how='inner', left_on='geo', right_on='country')\n",
        "\n",
        "df.drop(columns=['geo', 'country'], inplace=True)\n",
        "\n",
        "df.rename(columns={\n",
        "    'time': 'year', \n",
        "    'income_per_person_gdppercapita_ppp_inflation_adjusted': 'income', \n",
        "    'life_expectancy_years': 'lifespan', \n",
        "    'population_total': 'population', \n",
        "    'name': 'country', \n",
        "    'world_6region': 'region'\n",
        "}, inplace=True)\n",
        "\n",
        "df.shape"
      ],
      "execution_count": 12,
      "outputs": [
        {
          "output_type": "execute_result",
          "data": {
            "text/plain": [
              "(41790, 6)"
            ]
          },
          "metadata": {
            "tags": []
          },
          "execution_count": 12
        }
      ]
    },
    {
      "metadata": {
        "id": "zCkroEu2DZxl",
        "colab_type": "code",
        "colab": {
          "base_uri": "https://localhost:8080/",
          "height": 204
        },
        "outputId": "ae6e9780-df8f-4b8e-8a07-e8b92d6b5e0b"
      },
      "cell_type": "code",
      "source": [
        "df.head()"
      ],
      "execution_count": 13,
      "outputs": [
        {
          "output_type": "execute_result",
          "data": {
            "text/html": [
              "<div>\n",
              "<style scoped>\n",
              "    .dataframe tbody tr th:only-of-type {\n",
              "        vertical-align: middle;\n",
              "    }\n",
              "\n",
              "    .dataframe tbody tr th {\n",
              "        vertical-align: top;\n",
              "    }\n",
              "\n",
              "    .dataframe thead th {\n",
              "        text-align: right;\n",
              "    }\n",
              "</style>\n",
              "<table border=\"1\" class=\"dataframe\">\n",
              "  <thead>\n",
              "    <tr style=\"text-align: right;\">\n",
              "      <th></th>\n",
              "      <th>year</th>\n",
              "      <th>income</th>\n",
              "      <th>lifespan</th>\n",
              "      <th>population</th>\n",
              "      <th>country</th>\n",
              "      <th>region</th>\n",
              "    </tr>\n",
              "  </thead>\n",
              "  <tbody>\n",
              "    <tr>\n",
              "      <th>0</th>\n",
              "      <td>1800</td>\n",
              "      <td>833</td>\n",
              "      <td>34.42</td>\n",
              "      <td>19286</td>\n",
              "      <td>Aruba</td>\n",
              "      <td>america</td>\n",
              "    </tr>\n",
              "    <tr>\n",
              "      <th>1</th>\n",
              "      <td>1801</td>\n",
              "      <td>833</td>\n",
              "      <td>34.42</td>\n",
              "      <td>19286</td>\n",
              "      <td>Aruba</td>\n",
              "      <td>america</td>\n",
              "    </tr>\n",
              "    <tr>\n",
              "      <th>2</th>\n",
              "      <td>1802</td>\n",
              "      <td>833</td>\n",
              "      <td>34.42</td>\n",
              "      <td>19286</td>\n",
              "      <td>Aruba</td>\n",
              "      <td>america</td>\n",
              "    </tr>\n",
              "    <tr>\n",
              "      <th>3</th>\n",
              "      <td>1803</td>\n",
              "      <td>833</td>\n",
              "      <td>34.42</td>\n",
              "      <td>19286</td>\n",
              "      <td>Aruba</td>\n",
              "      <td>america</td>\n",
              "    </tr>\n",
              "    <tr>\n",
              "      <th>4</th>\n",
              "      <td>1804</td>\n",
              "      <td>833</td>\n",
              "      <td>34.42</td>\n",
              "      <td>19286</td>\n",
              "      <td>Aruba</td>\n",
              "      <td>america</td>\n",
              "    </tr>\n",
              "  </tbody>\n",
              "</table>\n",
              "</div>"
            ],
            "text/plain": [
              "   year  income  lifespan  population country   region\n",
              "0  1800     833     34.42       19286   Aruba  america\n",
              "1  1801     833     34.42       19286   Aruba  america\n",
              "2  1802     833     34.42       19286   Aruba  america\n",
              "3  1803     833     34.42       19286   Aruba  america\n",
              "4  1804     833     34.42       19286   Aruba  america"
            ]
          },
          "metadata": {
            "tags": []
          },
          "execution_count": 13
        }
      ]
    },
    {
      "metadata": {
        "id": "R-TWqGzUDb4F",
        "colab_type": "code",
        "colab": {
          "base_uri": "https://localhost:8080/",
          "height": 173
        },
        "outputId": "43f7bb66-8016-41dd-e4e3-75e6e3edc485"
      },
      "cell_type": "code",
      "source": [
        "df.describe(exclude=[np.number])"
      ],
      "execution_count": 14,
      "outputs": [
        {
          "output_type": "execute_result",
          "data": {
            "text/html": [
              "<div>\n",
              "<style scoped>\n",
              "    .dataframe tbody tr th:only-of-type {\n",
              "        vertical-align: middle;\n",
              "    }\n",
              "\n",
              "    .dataframe tbody tr th {\n",
              "        vertical-align: top;\n",
              "    }\n",
              "\n",
              "    .dataframe thead th {\n",
              "        text-align: right;\n",
              "    }\n",
              "</style>\n",
              "<table border=\"1\" class=\"dataframe\">\n",
              "  <thead>\n",
              "    <tr style=\"text-align: right;\">\n",
              "      <th></th>\n",
              "      <th>country</th>\n",
              "      <th>region</th>\n",
              "    </tr>\n",
              "  </thead>\n",
              "  <tbody>\n",
              "    <tr>\n",
              "      <th>count</th>\n",
              "      <td>41790</td>\n",
              "      <td>41790</td>\n",
              "    </tr>\n",
              "    <tr>\n",
              "      <th>unique</th>\n",
              "      <td>194</td>\n",
              "      <td>6</td>\n",
              "    </tr>\n",
              "    <tr>\n",
              "      <th>top</th>\n",
              "      <td>Switzerland</td>\n",
              "      <td>europe_central_asia</td>\n",
              "    </tr>\n",
              "    <tr>\n",
              "      <th>freq</th>\n",
              "      <td>219</td>\n",
              "      <td>10991</td>\n",
              "    </tr>\n",
              "  </tbody>\n",
              "</table>\n",
              "</div>"
            ],
            "text/plain": [
              "            country               region\n",
              "count         41790                41790\n",
              "unique          194                    6\n",
              "top     Switzerland  europe_central_asia\n",
              "freq            219                10991"
            ]
          },
          "metadata": {
            "tags": []
          },
          "execution_count": 14
        }
      ]
    },
    {
      "metadata": {
        "id": "P9rRQ67iDs4t",
        "colab_type": "code",
        "colab": {
          "base_uri": "https://localhost:8080/",
          "height": 68
        },
        "outputId": "aa14d158-f75a-488b-95d1-328ced10318a"
      },
      "cell_type": "code",
      "source": [
        "df.region.unique()"
      ],
      "execution_count": 15,
      "outputs": [
        {
          "output_type": "execute_result",
          "data": {
            "text/plain": [
              "array(['america', 'south_asia', 'sub_saharan_africa',\n",
              "       'europe_central_asia', 'middle_east_north_africa',\n",
              "       'east_asia_pacific'], dtype=object)"
            ]
          },
          "metadata": {
            "tags": []
          },
          "execution_count": 15
        }
      ]
    },
    {
      "metadata": {
        "id": "ZxejDuf1Dhj9",
        "colab_type": "code",
        "colab": {
          "base_uri": "https://localhost:8080/",
          "height": 1969
        },
        "outputId": "751cae54-5702-46f4-cf05-6a9cfbe97de6"
      },
      "cell_type": "code",
      "source": [
        "europe = df[df.region=='europe_central_asia']\n",
        "europe[europe.year.isin([1818, 1918, 2018])]"
      ],
      "execution_count": 16,
      "outputs": [
        {
          "output_type": "execute_result",
          "data": {
            "text/html": [
              "<div>\n",
              "<style scoped>\n",
              "    .dataframe tbody tr th:only-of-type {\n",
              "        vertical-align: middle;\n",
              "    }\n",
              "\n",
              "    .dataframe tbody tr th {\n",
              "        vertical-align: top;\n",
              "    }\n",
              "\n",
              "    .dataframe thead th {\n",
              "        text-align: right;\n",
              "    }\n",
              "</style>\n",
              "<table border=\"1\" class=\"dataframe\">\n",
              "  <thead>\n",
              "    <tr style=\"text-align: right;\">\n",
              "      <th></th>\n",
              "      <th>year</th>\n",
              "      <th>income</th>\n",
              "      <th>lifespan</th>\n",
              "      <th>population</th>\n",
              "      <th>country</th>\n",
              "      <th>region</th>\n",
              "    </tr>\n",
              "  </thead>\n",
              "  <tbody>\n",
              "    <tr>\n",
              "      <th>675</th>\n",
              "      <td>1818</td>\n",
              "      <td>669</td>\n",
              "      <td>35.40</td>\n",
              "      <td>435384</td>\n",
              "      <td>Albania</td>\n",
              "      <td>europe_central_asia</td>\n",
              "    </tr>\n",
              "    <tr>\n",
              "      <th>775</th>\n",
              "      <td>1918</td>\n",
              "      <td>1478</td>\n",
              "      <td>19.49</td>\n",
              "      <td>953764</td>\n",
              "      <td>Albania</td>\n",
              "      <td>europe_central_asia</td>\n",
              "    </tr>\n",
              "    <tr>\n",
              "      <th>875</th>\n",
              "      <td>2018</td>\n",
              "      <td>12424</td>\n",
              "      <td>78.01</td>\n",
              "      <td>2934363</td>\n",
              "      <td>Albania</td>\n",
              "      <td>europe_central_asia</td>\n",
              "    </tr>\n",
              "    <tr>\n",
              "      <th>1379</th>\n",
              "      <td>1818</td>\n",
              "      <td>515</td>\n",
              "      <td>34.00</td>\n",
              "      <td>419962</td>\n",
              "      <td>Armenia</td>\n",
              "      <td>europe_central_asia</td>\n",
              "    </tr>\n",
              "    <tr>\n",
              "      <th>1479</th>\n",
              "      <td>1918</td>\n",
              "      <td>671</td>\n",
              "      <td>26.14</td>\n",
              "      <td>1006536</td>\n",
              "      <td>Armenia</td>\n",
              "      <td>europe_central_asia</td>\n",
              "    </tr>\n",
              "    <tr>\n",
              "      <th>1579</th>\n",
              "      <td>2018</td>\n",
              "      <td>8662</td>\n",
              "      <td>75.97</td>\n",
              "      <td>2934152</td>\n",
              "      <td>Armenia</td>\n",
              "      <td>europe_central_asia</td>\n",
              "    </tr>\n",
              "    <tr>\n",
              "      <th>2036</th>\n",
              "      <td>1818</td>\n",
              "      <td>1986</td>\n",
              "      <td>34.40</td>\n",
              "      <td>3366878</td>\n",
              "      <td>Austria</td>\n",
              "      <td>europe_central_asia</td>\n",
              "    </tr>\n",
              "    <tr>\n",
              "      <th>2136</th>\n",
              "      <td>1918</td>\n",
              "      <td>5103</td>\n",
              "      <td>32.41</td>\n",
              "      <td>6643721</td>\n",
              "      <td>Austria</td>\n",
              "      <td>europe_central_asia</td>\n",
              "    </tr>\n",
              "    <tr>\n",
              "      <th>2236</th>\n",
              "      <td>2018</td>\n",
              "      <td>44645</td>\n",
              "      <td>81.84</td>\n",
              "      <td>8751820</td>\n",
              "      <td>Austria</td>\n",
              "      <td>europe_central_asia</td>\n",
              "    </tr>\n",
              "    <tr>\n",
              "      <th>2255</th>\n",
              "      <td>1818</td>\n",
              "      <td>778</td>\n",
              "      <td>29.17</td>\n",
              "      <td>894149</td>\n",
              "      <td>Azerbaijan</td>\n",
              "      <td>europe_central_asia</td>\n",
              "    </tr>\n",
              "    <tr>\n",
              "      <th>2355</th>\n",
              "      <td>1918</td>\n",
              "      <td>834</td>\n",
              "      <td>21.38</td>\n",
              "      <td>2173230</td>\n",
              "      <td>Azerbaijan</td>\n",
              "      <td>europe_central_asia</td>\n",
              "    </tr>\n",
              "    <tr>\n",
              "      <th>2455</th>\n",
              "      <td>2018</td>\n",
              "      <td>16552</td>\n",
              "      <td>72.30</td>\n",
              "      <td>9923914</td>\n",
              "      <td>Azerbaijan</td>\n",
              "      <td>europe_central_asia</td>\n",
              "    </tr>\n",
              "    <tr>\n",
              "      <th>2693</th>\n",
              "      <td>1818</td>\n",
              "      <td>2418</td>\n",
              "      <td>40.14</td>\n",
              "      <td>3430748</td>\n",
              "      <td>Belgium</td>\n",
              "      <td>europe_central_asia</td>\n",
              "    </tr>\n",
              "    <tr>\n",
              "      <th>2793</th>\n",
              "      <td>1918</td>\n",
              "      <td>4003</td>\n",
              "      <td>34.94</td>\n",
              "      <td>7673616</td>\n",
              "      <td>Belgium</td>\n",
              "      <td>europe_central_asia</td>\n",
              "    </tr>\n",
              "    <tr>\n",
              "      <th>2893</th>\n",
              "      <td>2018</td>\n",
              "      <td>42760</td>\n",
              "      <td>81.23</td>\n",
              "      <td>11498519</td>\n",
              "      <td>Belgium</td>\n",
              "      <td>europe_central_asia</td>\n",
              "    </tr>\n",
              "    <tr>\n",
              "      <th>3569</th>\n",
              "      <td>1818</td>\n",
              "      <td>1091</td>\n",
              "      <td>36.59</td>\n",
              "      <td>2166788</td>\n",
              "      <td>Bulgaria</td>\n",
              "      <td>europe_central_asia</td>\n",
              "    </tr>\n",
              "    <tr>\n",
              "      <th>3669</th>\n",
              "      <td>1918</td>\n",
              "      <td>2023</td>\n",
              "      <td>33.67</td>\n",
              "      <td>4974596</td>\n",
              "      <td>Bulgaria</td>\n",
              "      <td>europe_central_asia</td>\n",
              "    </tr>\n",
              "    <tr>\n",
              "      <th>3769</th>\n",
              "      <td>2018</td>\n",
              "      <td>18853</td>\n",
              "      <td>75.32</td>\n",
              "      <td>7036848</td>\n",
              "      <td>Bulgaria</td>\n",
              "      <td>europe_central_asia</td>\n",
              "    </tr>\n",
              "    <tr>\n",
              "      <th>4226</th>\n",
              "      <td>1818</td>\n",
              "      <td>670</td>\n",
              "      <td>35.10</td>\n",
              "      <td>864926</td>\n",
              "      <td>Bosnia and Herzegovina</td>\n",
              "      <td>europe_central_asia</td>\n",
              "    </tr>\n",
              "    <tr>\n",
              "      <th>4326</th>\n",
              "      <td>1918</td>\n",
              "      <td>1152</td>\n",
              "      <td>19.30</td>\n",
              "      <td>2001544</td>\n",
              "      <td>Bosnia and Herzegovina</td>\n",
              "      <td>europe_central_asia</td>\n",
              "    </tr>\n",
              "    <tr>\n",
              "      <th>4426</th>\n",
              "      <td>2018</td>\n",
              "      <td>12052</td>\n",
              "      <td>77.93</td>\n",
              "      <td>3503554</td>\n",
              "      <td>Bosnia and Herzegovina</td>\n",
              "      <td>europe_central_asia</td>\n",
              "    </tr>\n",
              "    <tr>\n",
              "      <th>4445</th>\n",
              "      <td>1818</td>\n",
              "      <td>614</td>\n",
              "      <td>36.20</td>\n",
              "      <td>2393030</td>\n",
              "      <td>Belarus</td>\n",
              "      <td>europe_central_asia</td>\n",
              "    </tr>\n",
              "    <tr>\n",
              "      <th>4545</th>\n",
              "      <td>1918</td>\n",
              "      <td>677</td>\n",
              "      <td>31.07</td>\n",
              "      <td>5802333</td>\n",
              "      <td>Belarus</td>\n",
              "      <td>europe_central_asia</td>\n",
              "    </tr>\n",
              "    <tr>\n",
              "      <th>4645</th>\n",
              "      <td>2018</td>\n",
              "      <td>17159</td>\n",
              "      <td>73.76</td>\n",
              "      <td>9452113</td>\n",
              "      <td>Belarus</td>\n",
              "      <td>europe_central_asia</td>\n",
              "    </tr>\n",
              "    <tr>\n",
              "      <th>6682</th>\n",
              "      <td>1818</td>\n",
              "      <td>2707</td>\n",
              "      <td>38.00</td>\n",
              "      <td>1974946</td>\n",
              "      <td>Switzerland</td>\n",
              "      <td>europe_central_asia</td>\n",
              "    </tr>\n",
              "    <tr>\n",
              "      <th>6782</th>\n",
              "      <td>1918</td>\n",
              "      <td>9378</td>\n",
              "      <td>46.26</td>\n",
              "      <td>3870678</td>\n",
              "      <td>Switzerland</td>\n",
              "      <td>europe_central_asia</td>\n",
              "    </tr>\n",
              "    <tr>\n",
              "      <th>6882</th>\n",
              "      <td>2018</td>\n",
              "      <td>57133</td>\n",
              "      <td>83.45</td>\n",
              "      <td>8544034</td>\n",
              "      <td>Switzerland</td>\n",
              "      <td>europe_central_asia</td>\n",
              "    </tr>\n",
              "    <tr>\n",
              "      <th>9310</th>\n",
              "      <td>1818</td>\n",
              "      <td>856</td>\n",
              "      <td>38.50</td>\n",
              "      <td>184748</td>\n",
              "      <td>Cyprus</td>\n",
              "      <td>europe_central_asia</td>\n",
              "    </tr>\n",
              "    <tr>\n",
              "      <th>9410</th>\n",
              "      <td>1918</td>\n",
              "      <td>2688</td>\n",
              "      <td>25.77</td>\n",
              "      <td>300440</td>\n",
              "      <td>Cyprus</td>\n",
              "      <td>europe_central_asia</td>\n",
              "    </tr>\n",
              "    <tr>\n",
              "      <th>9510</th>\n",
              "      <td>2018</td>\n",
              "      <td>32205</td>\n",
              "      <td>80.79</td>\n",
              "      <td>1189085</td>\n",
              "      <td>Cyprus</td>\n",
              "      <td>europe_central_asia</td>\n",
              "    </tr>\n",
              "    <tr>\n",
              "      <th>...</th>\n",
              "      <td>...</td>\n",
              "      <td>...</td>\n",
              "      <td>...</td>\n",
              "      <td>...</td>\n",
              "      <td>...</td>\n",
              "      <td>...</td>\n",
              "    </tr>\n",
              "    <tr>\n",
              "      <th>31736</th>\n",
              "      <td>1818</td>\n",
              "      <td>1461</td>\n",
              "      <td>29.57</td>\n",
              "      <td>31591309</td>\n",
              "      <td>Russia</td>\n",
              "      <td>europe_central_asia</td>\n",
              "    </tr>\n",
              "    <tr>\n",
              "      <th>31836</th>\n",
              "      <td>1918</td>\n",
              "      <td>1719</td>\n",
              "      <td>22.92</td>\n",
              "      <td>76453419</td>\n",
              "      <td>Russia</td>\n",
              "      <td>europe_central_asia</td>\n",
              "    </tr>\n",
              "    <tr>\n",
              "      <th>31936</th>\n",
              "      <td>2018</td>\n",
              "      <td>24786</td>\n",
              "      <td>71.07</td>\n",
              "      <td>143964709</td>\n",
              "      <td>Russia</td>\n",
              "      <td>europe_central_asia</td>\n",
              "    </tr>\n",
              "    <tr>\n",
              "      <th>33926</th>\n",
              "      <td>1818</td>\n",
              "      <td>1361</td>\n",
              "      <td>35.50</td>\n",
              "      <td>2180375</td>\n",
              "      <td>Serbia</td>\n",
              "      <td>europe_central_asia</td>\n",
              "    </tr>\n",
              "    <tr>\n",
              "      <th>34026</th>\n",
              "      <td>1918</td>\n",
              "      <td>3284</td>\n",
              "      <td>10.06</td>\n",
              "      <td>5069492</td>\n",
              "      <td>Serbia</td>\n",
              "      <td>europe_central_asia</td>\n",
              "    </tr>\n",
              "    <tr>\n",
              "      <th>34126</th>\n",
              "      <td>2018</td>\n",
              "      <td>14815</td>\n",
              "      <td>76.17</td>\n",
              "      <td>8762027</td>\n",
              "      <td>Serbia</td>\n",
              "      <td>europe_central_asia</td>\n",
              "    </tr>\n",
              "    <tr>\n",
              "      <th>34802</th>\n",
              "      <td>1818</td>\n",
              "      <td>1431</td>\n",
              "      <td>36.40</td>\n",
              "      <td>2154152</td>\n",
              "      <td>Slovak Republic</td>\n",
              "      <td>europe_central_asia</td>\n",
              "    </tr>\n",
              "    <tr>\n",
              "      <th>34902</th>\n",
              "      <td>1918</td>\n",
              "      <td>3383</td>\n",
              "      <td>31.88</td>\n",
              "      <td>3045213</td>\n",
              "      <td>Slovak Republic</td>\n",
              "      <td>europe_central_asia</td>\n",
              "    </tr>\n",
              "    <tr>\n",
              "      <th>35002</th>\n",
              "      <td>2018</td>\n",
              "      <td>31357</td>\n",
              "      <td>77.16</td>\n",
              "      <td>5449816</td>\n",
              "      <td>Slovak Republic</td>\n",
              "      <td>europe_central_asia</td>\n",
              "    </tr>\n",
              "    <tr>\n",
              "      <th>35021</th>\n",
              "      <td>1818</td>\n",
              "      <td>1412</td>\n",
              "      <td>36.60</td>\n",
              "      <td>476923</td>\n",
              "      <td>Slovenia</td>\n",
              "      <td>europe_central_asia</td>\n",
              "    </tr>\n",
              "    <tr>\n",
              "      <th>35121</th>\n",
              "      <td>1918</td>\n",
              "      <td>3407</td>\n",
              "      <td>19.90</td>\n",
              "      <td>1112031</td>\n",
              "      <td>Slovenia</td>\n",
              "      <td>europe_central_asia</td>\n",
              "    </tr>\n",
              "    <tr>\n",
              "      <th>35221</th>\n",
              "      <td>2018</td>\n",
              "      <td>30946</td>\n",
              "      <td>81.12</td>\n",
              "      <td>2081260</td>\n",
              "      <td>Slovenia</td>\n",
              "      <td>europe_central_asia</td>\n",
              "    </tr>\n",
              "    <tr>\n",
              "      <th>35240</th>\n",
              "      <td>1818</td>\n",
              "      <td>1461</td>\n",
              "      <td>40.02</td>\n",
              "      <td>2550203</td>\n",
              "      <td>Sweden</td>\n",
              "      <td>europe_central_asia</td>\n",
              "    </tr>\n",
              "    <tr>\n",
              "      <th>35340</th>\n",
              "      <td>1918</td>\n",
              "      <td>4702</td>\n",
              "      <td>49.76</td>\n",
              "      <td>5819451</td>\n",
              "      <td>Sweden</td>\n",
              "      <td>europe_central_asia</td>\n",
              "    </tr>\n",
              "    <tr>\n",
              "      <th>35440</th>\n",
              "      <td>2018</td>\n",
              "      <td>47520</td>\n",
              "      <td>82.37</td>\n",
              "      <td>9982709</td>\n",
              "      <td>Sweden</td>\n",
              "      <td>europe_central_asia</td>\n",
              "    </tr>\n",
              "    <tr>\n",
              "      <th>36773</th>\n",
              "      <td>1818</td>\n",
              "      <td>560</td>\n",
              "      <td>24.24</td>\n",
              "      <td>474135</td>\n",
              "      <td>Tajikistan</td>\n",
              "      <td>europe_central_asia</td>\n",
              "    </tr>\n",
              "    <tr>\n",
              "      <th>36873</th>\n",
              "      <td>1918</td>\n",
              "      <td>608</td>\n",
              "      <td>15.55</td>\n",
              "      <td>1135276</td>\n",
              "      <td>Tajikistan</td>\n",
              "      <td>europe_central_asia</td>\n",
              "    </tr>\n",
              "    <tr>\n",
              "      <th>36973</th>\n",
              "      <td>2018</td>\n",
              "      <td>2922</td>\n",
              "      <td>72.19</td>\n",
              "      <td>9107211</td>\n",
              "      <td>Tajikistan</td>\n",
              "      <td>europe_central_asia</td>\n",
              "    </tr>\n",
              "    <tr>\n",
              "      <th>36992</th>\n",
              "      <td>1818</td>\n",
              "      <td>963</td>\n",
              "      <td>24.00</td>\n",
              "      <td>373146</td>\n",
              "      <td>Turkmenistan</td>\n",
              "      <td>europe_central_asia</td>\n",
              "    </tr>\n",
              "    <tr>\n",
              "      <th>37092</th>\n",
              "      <td>1918</td>\n",
              "      <td>1133</td>\n",
              "      <td>13.96</td>\n",
              "      <td>901234</td>\n",
              "      <td>Turkmenistan</td>\n",
              "      <td>europe_central_asia</td>\n",
              "    </tr>\n",
              "    <tr>\n",
              "      <th>37192</th>\n",
              "      <td>2018</td>\n",
              "      <td>17856</td>\n",
              "      <td>70.48</td>\n",
              "      <td>5851466</td>\n",
              "      <td>Turkmenistan</td>\n",
              "      <td>europe_central_asia</td>\n",
              "    </tr>\n",
              "    <tr>\n",
              "      <th>38087</th>\n",
              "      <td>1818</td>\n",
              "      <td>1224</td>\n",
              "      <td>35.00</td>\n",
              "      <td>10072596</td>\n",
              "      <td>Turkey</td>\n",
              "      <td>europe_central_asia</td>\n",
              "    </tr>\n",
              "    <tr>\n",
              "      <th>38187</th>\n",
              "      <td>1918</td>\n",
              "      <td>1693</td>\n",
              "      <td>19.90</td>\n",
              "      <td>14538524</td>\n",
              "      <td>Turkey</td>\n",
              "      <td>europe_central_asia</td>\n",
              "    </tr>\n",
              "    <tr>\n",
              "      <th>38287</th>\n",
              "      <td>2018</td>\n",
              "      <td>24881</td>\n",
              "      <td>79.61</td>\n",
              "      <td>81916871</td>\n",
              "      <td>Turkey</td>\n",
              "      <td>europe_central_asia</td>\n",
              "    </tr>\n",
              "    <tr>\n",
              "      <th>38961</th>\n",
              "      <td>1818</td>\n",
              "      <td>779</td>\n",
              "      <td>36.60</td>\n",
              "      <td>11397955</td>\n",
              "      <td>Ukraine</td>\n",
              "      <td>europe_central_asia</td>\n",
              "    </tr>\n",
              "    <tr>\n",
              "      <th>39061</th>\n",
              "      <td>1918</td>\n",
              "      <td>917</td>\n",
              "      <td>28.64</td>\n",
              "      <td>27697025</td>\n",
              "      <td>Ukraine</td>\n",
              "      <td>europe_central_asia</td>\n",
              "    </tr>\n",
              "    <tr>\n",
              "      <th>39161</th>\n",
              "      <td>2018</td>\n",
              "      <td>8327</td>\n",
              "      <td>72.29</td>\n",
              "      <td>44009214</td>\n",
              "      <td>Ukraine</td>\n",
              "      <td>europe_central_asia</td>\n",
              "    </tr>\n",
              "    <tr>\n",
              "      <th>39618</th>\n",
              "      <td>1818</td>\n",
              "      <td>504</td>\n",
              "      <td>26.93</td>\n",
              "      <td>1950095</td>\n",
              "      <td>Uzbekistan</td>\n",
              "      <td>europe_central_asia</td>\n",
              "    </tr>\n",
              "    <tr>\n",
              "      <th>39718</th>\n",
              "      <td>1918</td>\n",
              "      <td>676</td>\n",
              "      <td>18.79</td>\n",
              "      <td>4650622</td>\n",
              "      <td>Uzbekistan</td>\n",
              "      <td>europe_central_asia</td>\n",
              "    </tr>\n",
              "    <tr>\n",
              "      <th>39818</th>\n",
              "      <td>2018</td>\n",
              "      <td>6688</td>\n",
              "      <td>70.50</td>\n",
              "      <td>32364996</td>\n",
              "      <td>Uzbekistan</td>\n",
              "      <td>europe_central_asia</td>\n",
              "    </tr>\n",
              "  </tbody>\n",
              "</table>\n",
              "<p>149 rows × 6 columns</p>\n",
              "</div>"
            ],
            "text/plain": [
              "       year  income  lifespan  population                 country  \\\n",
              "675    1818     669     35.40      435384                 Albania   \n",
              "775    1918    1478     19.49      953764                 Albania   \n",
              "875    2018   12424     78.01     2934363                 Albania   \n",
              "1379   1818     515     34.00      419962                 Armenia   \n",
              "1479   1918     671     26.14     1006536                 Armenia   \n",
              "1579   2018    8662     75.97     2934152                 Armenia   \n",
              "2036   1818    1986     34.40     3366878                 Austria   \n",
              "2136   1918    5103     32.41     6643721                 Austria   \n",
              "2236   2018   44645     81.84     8751820                 Austria   \n",
              "2255   1818     778     29.17      894149              Azerbaijan   \n",
              "2355   1918     834     21.38     2173230              Azerbaijan   \n",
              "2455   2018   16552     72.30     9923914              Azerbaijan   \n",
              "2693   1818    2418     40.14     3430748                 Belgium   \n",
              "2793   1918    4003     34.94     7673616                 Belgium   \n",
              "2893   2018   42760     81.23    11498519                 Belgium   \n",
              "3569   1818    1091     36.59     2166788                Bulgaria   \n",
              "3669   1918    2023     33.67     4974596                Bulgaria   \n",
              "3769   2018   18853     75.32     7036848                Bulgaria   \n",
              "4226   1818     670     35.10      864926  Bosnia and Herzegovina   \n",
              "4326   1918    1152     19.30     2001544  Bosnia and Herzegovina   \n",
              "4426   2018   12052     77.93     3503554  Bosnia and Herzegovina   \n",
              "4445   1818     614     36.20     2393030                 Belarus   \n",
              "4545   1918     677     31.07     5802333                 Belarus   \n",
              "4645   2018   17159     73.76     9452113                 Belarus   \n",
              "6682   1818    2707     38.00     1974946             Switzerland   \n",
              "6782   1918    9378     46.26     3870678             Switzerland   \n",
              "6882   2018   57133     83.45     8544034             Switzerland   \n",
              "9310   1818     856     38.50      184748                  Cyprus   \n",
              "9410   1918    2688     25.77      300440                  Cyprus   \n",
              "9510   2018   32205     80.79     1189085                  Cyprus   \n",
              "...     ...     ...       ...         ...                     ...   \n",
              "31736  1818    1461     29.57    31591309                  Russia   \n",
              "31836  1918    1719     22.92    76453419                  Russia   \n",
              "31936  2018   24786     71.07   143964709                  Russia   \n",
              "33926  1818    1361     35.50     2180375                  Serbia   \n",
              "34026  1918    3284     10.06     5069492                  Serbia   \n",
              "34126  2018   14815     76.17     8762027                  Serbia   \n",
              "34802  1818    1431     36.40     2154152         Slovak Republic   \n",
              "34902  1918    3383     31.88     3045213         Slovak Republic   \n",
              "35002  2018   31357     77.16     5449816         Slovak Republic   \n",
              "35021  1818    1412     36.60      476923                Slovenia   \n",
              "35121  1918    3407     19.90     1112031                Slovenia   \n",
              "35221  2018   30946     81.12     2081260                Slovenia   \n",
              "35240  1818    1461     40.02     2550203                  Sweden   \n",
              "35340  1918    4702     49.76     5819451                  Sweden   \n",
              "35440  2018   47520     82.37     9982709                  Sweden   \n",
              "36773  1818     560     24.24      474135              Tajikistan   \n",
              "36873  1918     608     15.55     1135276              Tajikistan   \n",
              "36973  2018    2922     72.19     9107211              Tajikistan   \n",
              "36992  1818     963     24.00      373146            Turkmenistan   \n",
              "37092  1918    1133     13.96      901234            Turkmenistan   \n",
              "37192  2018   17856     70.48     5851466            Turkmenistan   \n",
              "38087  1818    1224     35.00    10072596                  Turkey   \n",
              "38187  1918    1693     19.90    14538524                  Turkey   \n",
              "38287  2018   24881     79.61    81916871                  Turkey   \n",
              "38961  1818     779     36.60    11397955                 Ukraine   \n",
              "39061  1918     917     28.64    27697025                 Ukraine   \n",
              "39161  2018    8327     72.29    44009214                 Ukraine   \n",
              "39618  1818     504     26.93     1950095              Uzbekistan   \n",
              "39718  1918     676     18.79     4650622              Uzbekistan   \n",
              "39818  2018    6688     70.50    32364996              Uzbekistan   \n",
              "\n",
              "                    region  \n",
              "675    europe_central_asia  \n",
              "775    europe_central_asia  \n",
              "875    europe_central_asia  \n",
              "1379   europe_central_asia  \n",
              "1479   europe_central_asia  \n",
              "1579   europe_central_asia  \n",
              "2036   europe_central_asia  \n",
              "2136   europe_central_asia  \n",
              "2236   europe_central_asia  \n",
              "2255   europe_central_asia  \n",
              "2355   europe_central_asia  \n",
              "2455   europe_central_asia  \n",
              "2693   europe_central_asia  \n",
              "2793   europe_central_asia  \n",
              "2893   europe_central_asia  \n",
              "3569   europe_central_asia  \n",
              "3669   europe_central_asia  \n",
              "3769   europe_central_asia  \n",
              "4226   europe_central_asia  \n",
              "4326   europe_central_asia  \n",
              "4426   europe_central_asia  \n",
              "4445   europe_central_asia  \n",
              "4545   europe_central_asia  \n",
              "4645   europe_central_asia  \n",
              "6682   europe_central_asia  \n",
              "6782   europe_central_asia  \n",
              "6882   europe_central_asia  \n",
              "9310   europe_central_asia  \n",
              "9410   europe_central_asia  \n",
              "9510   europe_central_asia  \n",
              "...                    ...  \n",
              "31736  europe_central_asia  \n",
              "31836  europe_central_asia  \n",
              "31936  europe_central_asia  \n",
              "33926  europe_central_asia  \n",
              "34026  europe_central_asia  \n",
              "34126  europe_central_asia  \n",
              "34802  europe_central_asia  \n",
              "34902  europe_central_asia  \n",
              "35002  europe_central_asia  \n",
              "35021  europe_central_asia  \n",
              "35121  europe_central_asia  \n",
              "35221  europe_central_asia  \n",
              "35240  europe_central_asia  \n",
              "35340  europe_central_asia  \n",
              "35440  europe_central_asia  \n",
              "36773  europe_central_asia  \n",
              "36873  europe_central_asia  \n",
              "36973  europe_central_asia  \n",
              "36992  europe_central_asia  \n",
              "37092  europe_central_asia  \n",
              "37192  europe_central_asia  \n",
              "38087  europe_central_asia  \n",
              "38187  europe_central_asia  \n",
              "38287  europe_central_asia  \n",
              "38961  europe_central_asia  \n",
              "39061  europe_central_asia  \n",
              "39161  europe_central_asia  \n",
              "39618  europe_central_asia  \n",
              "39718  europe_central_asia  \n",
              "39818  europe_central_asia  \n",
              "\n",
              "[149 rows x 6 columns]"
            ]
          },
          "metadata": {
            "tags": []
          },
          "execution_count": 16
        }
      ]
    },
    {
      "metadata": {
        "id": "FBLGOmryD43M",
        "colab_type": "code",
        "colab": {
          "base_uri": "https://localhost:8080/",
          "height": 376
        },
        "outputId": "c6fb1896-9fd1-450f-b80c-f7ff6ea73378"
      },
      "cell_type": "code",
      "source": [
        "now = df[df.year==2018]\n",
        "print(now.shape)\n",
        "now.sample(10)"
      ],
      "execution_count": 17,
      "outputs": [
        {
          "output_type": "stream",
          "text": [
            "(188, 6)\n"
          ],
          "name": "stdout"
        },
        {
          "output_type": "execute_result",
          "data": {
            "text/html": [
              "<div>\n",
              "<style scoped>\n",
              "    .dataframe tbody tr th:only-of-type {\n",
              "        vertical-align: middle;\n",
              "    }\n",
              "\n",
              "    .dataframe tbody tr th {\n",
              "        vertical-align: top;\n",
              "    }\n",
              "\n",
              "    .dataframe thead th {\n",
              "        text-align: right;\n",
              "    }\n",
              "</style>\n",
              "<table border=\"1\" class=\"dataframe\">\n",
              "  <thead>\n",
              "    <tr style=\"text-align: right;\">\n",
              "      <th></th>\n",
              "      <th>year</th>\n",
              "      <th>income</th>\n",
              "      <th>lifespan</th>\n",
              "      <th>population</th>\n",
              "      <th>country</th>\n",
              "      <th>region</th>\n",
              "    </tr>\n",
              "  </thead>\n",
              "  <tbody>\n",
              "    <tr>\n",
              "      <th>3769</th>\n",
              "      <td>2018</td>\n",
              "      <td>18853</td>\n",
              "      <td>75.32</td>\n",
              "      <td>7036848</td>\n",
              "      <td>Bulgaria</td>\n",
              "      <td>europe_central_asia</td>\n",
              "    </tr>\n",
              "    <tr>\n",
              "      <th>1360</th>\n",
              "      <td>2018</td>\n",
              "      <td>18942</td>\n",
              "      <td>76.97</td>\n",
              "      <td>44688864</td>\n",
              "      <td>Argentina</td>\n",
              "      <td>america</td>\n",
              "    </tr>\n",
              "    <tr>\n",
              "      <th>29965</th>\n",
              "      <td>2018</td>\n",
              "      <td>2804</td>\n",
              "      <td>61.14</td>\n",
              "      <td>8418346</td>\n",
              "      <td>Papua New Guinea</td>\n",
              "      <td>east_asia_pacific</td>\n",
              "    </tr>\n",
              "    <tr>\n",
              "      <th>3331</th>\n",
              "      <td>2018</td>\n",
              "      <td>1710</td>\n",
              "      <td>61.60</td>\n",
              "      <td>19751651</td>\n",
              "      <td>Burkina Faso</td>\n",
              "      <td>sub_saharan_africa</td>\n",
              "    </tr>\n",
              "    <tr>\n",
              "      <th>12842</th>\n",
              "      <td>2018</td>\n",
              "      <td>39006</td>\n",
              "      <td>82.62</td>\n",
              "      <td>65233271</td>\n",
              "      <td>France</td>\n",
              "      <td>europe_central_asia</td>\n",
              "    </tr>\n",
              "    <tr>\n",
              "      <th>12404</th>\n",
              "      <td>2018</td>\n",
              "      <td>40290</td>\n",
              "      <td>82.06</td>\n",
              "      <td>5542517</td>\n",
              "      <td>Finland</td>\n",
              "      <td>europe_central_asia</td>\n",
              "    </tr>\n",
              "    <tr>\n",
              "      <th>40694</th>\n",
              "      <td>2018</td>\n",
              "      <td>2896</td>\n",
              "      <td>64.30</td>\n",
              "      <td>282117</td>\n",
              "      <td>Vanuatu</td>\n",
              "      <td>east_asia_pacific</td>\n",
              "    </tr>\n",
              "    <tr>\n",
              "      <th>37192</th>\n",
              "      <td>2018</td>\n",
              "      <td>17856</td>\n",
              "      <td>70.48</td>\n",
              "      <td>5851466</td>\n",
              "      <td>Turkmenistan</td>\n",
              "      <td>europe_central_asia</td>\n",
              "    </tr>\n",
              "    <tr>\n",
              "      <th>2017</th>\n",
              "      <td>2018</td>\n",
              "      <td>45783</td>\n",
              "      <td>82.87</td>\n",
              "      <td>24772247</td>\n",
              "      <td>Australia</td>\n",
              "      <td>east_asia_pacific</td>\n",
              "    </tr>\n",
              "    <tr>\n",
              "      <th>7101</th>\n",
              "      <td>2018</td>\n",
              "      <td>23366</td>\n",
              "      <td>80.66</td>\n",
              "      <td>18197209</td>\n",
              "      <td>Chile</td>\n",
              "      <td>america</td>\n",
              "    </tr>\n",
              "  </tbody>\n",
              "</table>\n",
              "</div>"
            ],
            "text/plain": [
              "       year  income  lifespan  population           country  \\\n",
              "3769   2018   18853     75.32     7036848          Bulgaria   \n",
              "1360   2018   18942     76.97    44688864         Argentina   \n",
              "29965  2018    2804     61.14     8418346  Papua New Guinea   \n",
              "3331   2018    1710     61.60    19751651      Burkina Faso   \n",
              "12842  2018   39006     82.62    65233271            France   \n",
              "12404  2018   40290     82.06     5542517           Finland   \n",
              "40694  2018    2896     64.30      282117           Vanuatu   \n",
              "37192  2018   17856     70.48     5851466      Turkmenistan   \n",
              "2017   2018   45783     82.87    24772247         Australia   \n",
              "7101   2018   23366     80.66    18197209             Chile   \n",
              "\n",
              "                    region  \n",
              "3769   europe_central_asia  \n",
              "1360               america  \n",
              "29965    east_asia_pacific  \n",
              "3331    sub_saharan_africa  \n",
              "12842  europe_central_asia  \n",
              "12404  europe_central_asia  \n",
              "40694    east_asia_pacific  \n",
              "37192  europe_central_asia  \n",
              "2017     east_asia_pacific  \n",
              "7101               america  "
            ]
          },
          "metadata": {
            "tags": []
          },
          "execution_count": 17
        }
      ]
    },
    {
      "metadata": {
        "id": "e342TU5EECJq",
        "colab_type": "code",
        "colab": {
          "base_uri": "https://localhost:8080/",
          "height": 369
        },
        "outputId": "0a4e5446-e0f6-4666-da68-8d55abc6ef4d"
      },
      "cell_type": "code",
      "source": [
        "sns.relplot(x='income', y='lifespan', hue='region', size='population', data=now);"
      ],
      "execution_count": 18,
      "outputs": [
        {
          "output_type": "display_data",
          "data": {
            "image/png": "[encoded data removed]",
            "text/plain": [
              "<matplotlib.figure.Figure at 0x7fae95df4d30>"
            ]
          },
          "metadata": {
            "tags": []
          }
        }
      ]
    },
    {
      "metadata": {
        "id": "FuSnXh0pEGqj",
        "colab_type": "code",
        "colab": {}
      },
      "cell_type": "code",
      "source": [
        "years = [1818, 1918, 2018]\n",
        "\n",
        "centuries = europe[europe.year.isin(years)]"
      ],
      "execution_count": 0,
      "outputs": []
    },
    {
      "metadata": {
        "id": "YH_rZ3qYE4f5",
        "colab_type": "code",
        "colab": {}
      },
      "cell_type": "code",
      "source": [
        "sns.relplot?"
      ],
      "execution_count": 0,
      "outputs": []
    },
    {
      "metadata": {
        "id": "TdNsU2D8EVOq",
        "colab_type": "code",
        "colab": {
          "base_uri": "https://localhost:8080/",
          "height": 874
        },
        "outputId": "e568fc20-f1b5-4241-a583-d4b3809f136a"
      },
      "cell_type": "code",
      "source": [
        "sns.relplot(x='income', y='lifespan', hue='country', size='population', \n",
        "            col='year', data=centuries);\n",
        "\n",
        "plt.xscale('log');"
      ],
      "execution_count": 33,
      "outputs": [
        {
          "output_type": "display_data",
          "data": {
            "image/png": "[encoded data removed]",
            "text/plain": [
              "<matplotlib.figure.Figure at 0x7fae8dc12128>"
            ]
          },
          "metadata": {
            "tags": []
          }
        }
      ]
    },
    {
      "metadata": {
        "id": "Zkte-4kzFgvZ",
        "colab_type": "code",
        "colab": {
          "base_uri": "https://localhost:8080/",
          "height": 874
        },
        "outputId": "6009d3ac-e05e-4090-c9ed-600224045036"
      },
      "cell_type": "code",
      "source": [
        "sns.relplot(x='income', y='lifespan', hue='country', size='population', \n",
        "            col='year', data=centuries);\n",
        "\n",
        "plt.xscale('log')\n",
        "plt.xlim((150, 150000));"
      ],
      "execution_count": 34,
      "outputs": [
        {
          "output_type": "display_data",
          "data": {
            "image/png": "[encoded data removed]",
            "text/plain": [
              "<matplotlib.figure.Figure at 0x7fae8df29e48>"
            ]
          },
          "metadata": {
            "tags": []
          }
        }
      ]
    },
    {
      "metadata": {
        "id": "wTLczbN1LInE",
        "colab_type": "text"
      },
      "cell_type": "markdown",
      "source": [
        "years = [1818, 1918, 2018]\n",
        "\n",
        "centuries = europe[europe.year.isin(years)]\n",
        "\n",
        "europe = df[df.region=='europe_central_asia']\n",
        "\n",
        "europe[europe.year.isin([1818, 1918, 2018])]\n",
        "\n",
        "df.region.unique()"
      ]
    },
    {
      "metadata": {
        "id": "XLxuK_wrLUgd",
        "colab_type": "code",
        "colab": {
          "base_uri": "https://localhost:8080/",
          "height": 204
        },
        "outputId": "2dae0744-a20a-4f7a-e94d-bcaf79be46d8"
      },
      "cell_type": "code",
      "source": [
        "europe.country.unique()"
      ],
      "execution_count": 43,
      "outputs": [
        {
          "output_type": "execute_result",
          "data": {
            "text/plain": [
              "array(['Albania', 'Andorra', 'Armenia', 'Austria', 'Azerbaijan',\n",
              "       'Belgium', 'Bulgaria', 'Bosnia and Herzegovina', 'Belarus',\n",
              "       'Switzerland', 'Cyprus', 'Czech Republic', 'Germany', 'Denmark',\n",
              "       'Spain', 'Estonia', 'Finland', 'France', 'United Kingdom',\n",
              "       'Georgia', 'Greece', 'Greenland', 'Croatia', 'Hungary', 'Ireland',\n",
              "       'Iceland', 'Italy', 'Kazakhstan', 'Kyrgyz Republic', 'Lithuania',\n",
              "       'Luxembourg', 'Latvia', 'Moldova', 'Macedonia, FYR', 'Malta',\n",
              "       'Montenegro', 'Netherlands', 'Norway', 'Poland', 'Portugal',\n",
              "       'Romania', 'Russia', 'Serbia', 'Slovak Republic', 'Slovenia',\n",
              "       'Sweden', 'Tajikistan', 'Turkmenistan', 'Turkey', 'Ukraine',\n",
              "       'Uzbekistan'], dtype=object)"
            ]
          },
          "metadata": {
            "tags": []
          },
          "execution_count": 43
        }
      ]
    },
    {
      "metadata": {
        "id": "f7h8lIXRJU_J",
        "colab_type": "code",
        "colab": {}
      },
      "cell_type": "code",
      "source": [
        "european_war_countries = ['Albania', 'Austria', 'Belgium', 'Bulgaria',\n",
        "       'Czech Republic', 'Germany', 'Spain' 'Finland', 'France', \n",
        "       'United Kingdom', 'Greece', 'Ireland', 'Italy',  'Lithuania',\n",
        "       'Luxembourg', 'Latvia', 'Malta', 'Montenegro', 'Netherlands', 'Norway', \n",
        "       'Poland', 'Portugal', 'Romania', 'Russia', 'Serbia', 'Sweden', 'Turkey']"
      ],
      "execution_count": 0,
      "outputs": []
    },
    {
      "metadata": {
        "id": "_QVz1y5AOQZp",
        "colab_type": "code",
        "colab": {
          "base_uri": "https://localhost:8080/",
          "height": 204
        },
        "outputId": "0f33bc17-4200-4405-9b9c-a8408731214a"
      },
      "cell_type": "code",
      "source": [
        "years = [1818, 1918, 2018]\n",
        "\n",
        "centuries = europe[europe.year.isin(years)]\n",
        "\n",
        "war_countries = europe[europe.country.isin(european_war_countries)]\n",
        "#print(centuries.head(10))\n",
        "#print(war_countries.head(10))\n",
        "\n",
        "world_war = centuries[centuries.country.isin(european_war_countries)]\n",
        "\n",
        "print(world_war.head(10))"
      ],
      "execution_count": 66,
      "outputs": [
        {
          "output_type": "stream",
          "text": [
            "      year  income  lifespan  population   country               region\n",
            "675   1818     669     35.40      435384   Albania  europe_central_asia\n",
            "775   1918    1478     19.49      953764   Albania  europe_central_asia\n",
            "875   2018   12424     78.01     2934363   Albania  europe_central_asia\n",
            "2036  1818    1986     34.40     3366878   Austria  europe_central_asia\n",
            "2136  1918    5103     32.41     6643721   Austria  europe_central_asia\n",
            "2236  2018   44645     81.84     8751820   Austria  europe_central_asia\n",
            "2693  1818    2418     40.14     3430748   Belgium  europe_central_asia\n",
            "2793  1918    4003     34.94     7673616   Belgium  europe_central_asia\n",
            "2893  2018   42760     81.23    11498519   Belgium  europe_central_asia\n",
            "3569  1818    1091     36.59     2166788  Bulgaria  europe_central_asia\n"
          ],
          "name": "stdout"
        }
      ]
    },
    {
      "metadata": {
        "id": "Ueq2pOErPwgy",
        "colab_type": "code",
        "colab": {}
      },
      "cell_type": "code",
      "source": [
        "sns.relplot?"
      ],
      "execution_count": 0,
      "outputs": []
    },
    {
      "metadata": {
        "id": "UWvuyIJfJVe5",
        "colab_type": "code",
        "colab": {
          "base_uri": "https://localhost:8080/",
          "height": 373
        },
        "outputId": "40bd6455-5c16-4e51-9686-5c56212468bb"
      },
      "cell_type": "code",
      "source": [
        "sns.relplot(x='income', y='lifespan', hue='region', size='population', \n",
        "            col='year', data=world_war)\n",
        "\n",
        "plt.xscale('log');\n"
      ],
      "execution_count": 67,
      "outputs": [
        {
          "output_type": "display_data",
          "data": {
            "image/png": "[encoded data removed]",
            "text/plain": [
              "<matplotlib.figure.Figure at 0x7fae8d4a6a90>"
            ]
          },
          "metadata": {
            "tags": []
          }
        }
      ]
    },
    {
      "metadata": {
        "id": "PpxmhbYJQqbR",
        "colab_type": "code",
        "colab": {
          "base_uri": "https://localhost:8080/",
          "height": 519
        },
        "outputId": "3224c2dc-7e34-4598-e453-bd5ed7149be1"
      },
      "cell_type": "code",
      "source": [
        "hundred_years = [1880, 1900, 1920, 1940, 1960, 1980]\n",
        "\n",
        "centuries = europe[europe.year.isin(hundred_years)]\n",
        "\n",
        "world_war_effect = centuries[centuries.country.isin(european_war_countries)]\n",
        "\n",
        "#print(world_war_effect.head(10))\n",
        "\n",
        "subset = world_war_effect[world_war_effect.year.isin(hundred_years)]\n",
        "\n",
        "sns.relplot(x='income', y='lifespan', hue='country', size='population', \n",
        "            col='year', data=subset)\n",
        "\n",
        "plt.xscale('log')\n",
        "plt.xlim((150, 150000));"
      ],
      "execution_count": 76,
      "outputs": [
        {
          "output_type": "display_data",
          "data": {
            "image/png": "[encoded data removed]",
            "text/plain": [
              "<matplotlib.figure.Figure at 0x7fae90c4ee80>"
            ]
          },
          "metadata": {
            "tags": []
          }
        }
      ]
    },
    {
      "metadata": {
        "id": "rjW-JrerSAc3",
        "colab_type": "text"
      },
      "cell_type": "markdown",
      "source": [
        "## Europe Population and Income over 100 years\n",
        "Shows population/income growth of Europe from 1880-1980.\n",
        "You can see a stunting of growth during the 1920-1940s, due to epidemic and world wars. "
      ]
    },
    {
      "metadata": {
        "id": "OTpfkPzhR_0P",
        "colab_type": "code",
        "colab": {}
      },
      "cell_type": "code",
      "source": [
        ""
      ],
      "execution_count": 0,
      "outputs": []
    }
  ]
}