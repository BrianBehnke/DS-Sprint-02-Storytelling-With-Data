{
  "nbformat": 4,
  "nbformat_minor": 0,
  "metadata": {
    "colab": {
      "name": "DS_Unit_1_Sprint_Challenge_2.ipynb",
      "version": "0.3.2",
      "provenance": [],
      "collapsed_sections": [],
      "include_colab_link": true
    },
    "kernelspec": {
      "name": "python3",
      "display_name": "Python 3"
    }
  },
  "cells": [
    {
      "cell_type": "markdown",
      "metadata": {
        "id": "view-in-github",
        "colab_type": "text"
      },
      "source": [
        "<a href=\"https://colab.research.google.com/github/BrianBehnke/DS-Sprint-02-Storytelling-With-Data/blob/master/DS_Unit_1_Sprint_Challenge_2.ipynb\" target=\"_parent\"><img src=\"https://colab.research.google.com/assets/colab-badge.svg\" alt=\"Open In Colab\"/></a>"
      ]
    },
    {
      "metadata": {
        "id": "i-n_5en3ER1o",
        "colab_type": "text"
      },
      "cell_type": "markdown",
      "source": [
        "# Data Science Unit 1 Sprint Challenge 2\n",
        "\n",
        "# Storytelling with Data\n",
        "\n",
        "In this sprint challenge you'll work with a dataset from **FiveThirtyEight's article, [Every Guest Jon Stewart Ever Had On ‘The Daily Show’](https://fivethirtyeight.com/features/every-guest-jon-stewart-ever-had-on-the-daily-show/)**!"
      ]
    },
    {
      "metadata": {
        "id": "Thm2n5FF2Fnp",
        "colab_type": "text"
      },
      "cell_type": "markdown",
      "source": [
        "# Part 0 — Run this starter code\n",
        "\n",
        "You don't need to add or change anything here. Just run this cell and it loads the data for you, into a dataframe named `df`.\n",
        "\n",
        "(You can explore the data if you want, but it's not required to pass the Sprint Challenge.)"
      ]
    },
    {
      "metadata": {
        "id": "0rTHgzJIuRS7",
        "colab_type": "code",
        "colab": {}
      },
      "cell_type": "code",
      "source": [
        "%matplotlib inline\n",
        "import matplotlib.pyplot as plt\n",
        "import numpy as np\n",
        "import pandas as pd\n",
        "\n",
        "df = pd.read_csv('https://raw.githubusercontent.com/fivethirtyeight/data/master/daily-show-guests/daily_show_guests.csv')\n",
        "df.rename(columns={'YEAR': 'Year', 'Raw_Guest_List': 'Guest'}, inplace=True)\n",
        "\n",
        "def get_occupation(group):\n",
        "    if group in ['Acting', 'Comedy', 'Musician']:\n",
        "        return 'Acting, Comedy & Music'\n",
        "    elif group in ['Media', 'media']:\n",
        "        return 'Media'\n",
        "    elif group in ['Government', 'Politician', 'Political Aide']:\n",
        "        return 'Government and Politics'\n",
        "    else:\n",
        "        return 'Other'\n",
        "      \n",
        "df['Occupation'] = df['Group'].apply(get_occupation)"
      ],
      "execution_count": 0,
      "outputs": []
    },
    {
      "metadata": {
        "id": "OS0nW1vz1itX",
        "colab_type": "text"
      },
      "cell_type": "markdown",
      "source": [
        "# Part 1 — What's the breakdown of guests’ occupations per year?\n",
        "\n",
        "For example, in 1999, what percentage of guests were actors, comedians, or musicians? What percentage were in the media? What percentage were in politics? What percentage were from another occupation?\n",
        "\n",
        "Then, what about in 2000? In 2001? And so on, up through 2015.\n",
        "\n",
        "So, **for each year of _The Daily Show_, calculate the percentage of guests from each occupation:**\n",
        "- Acting, Comedy & Music\n",
        "- Government and Politics\n",
        "- Media\n",
        "- Other\n",
        "\n",
        "#### Hints:\n",
        "1. Use pandas to make a **crosstab** of **`Year`** & **`Occupation`**. ([This documentation](http://pandas.pydata.org/pandas-docs/stable/reshaping.html#cross-tabulations) has examples and explanation.)\n",
        "2. To get percentages instead of counts, use crosstab's **`normalize`** parameter to normalize over each _row._ ([This documentation](http://pandas.pydata.org/pandas-docs/stable/generated/pandas.crosstab.html) describes the parameter and its options.)\n",
        "3. You'll know you've calculated the crosstab correctly when the percentage of \"Acting, Comedy & Music\" guests is 90.36% in 1999, and 45% in 2015."
      ]
    },
    {
      "metadata": {
        "id": "sRMc0H_5z6ff",
        "colab_type": "code",
        "colab": {
          "base_uri": "https://localhost:8080/",
          "height": 204
        },
        "outputId": "b7e8a306-3542-4699-e1fc-aa6b6769ba04"
      },
      "cell_type": "code",
      "source": [
        "pd.options.display.max_columns = None\n",
        "df.head()"
      ],
      "execution_count": 2,
      "outputs": [
        {
          "output_type": "execute_result",
          "data": {
            "text/html": [
              "<div>\n",
              "<style scoped>\n",
              "    .dataframe tbody tr th:only-of-type {\n",
              "        vertical-align: middle;\n",
              "    }\n",
              "\n",
              "    .dataframe tbody tr th {\n",
              "        vertical-align: top;\n",
              "    }\n",
              "\n",
              "    .dataframe thead th {\n",
              "        text-align: right;\n",
              "    }\n",
              "</style>\n",
              "<table border=\"1\" class=\"dataframe\">\n",
              "  <thead>\n",
              "    <tr style=\"text-align: right;\">\n",
              "      <th></th>\n",
              "      <th>Year</th>\n",
              "      <th>GoogleKnowlege_Occupation</th>\n",
              "      <th>Show</th>\n",
              "      <th>Group</th>\n",
              "      <th>Guest</th>\n",
              "      <th>Occupation</th>\n",
              "    </tr>\n",
              "  </thead>\n",
              "  <tbody>\n",
              "    <tr>\n",
              "      <th>0</th>\n",
              "      <td>1999</td>\n",
              "      <td>actor</td>\n",
              "      <td>1/11/99</td>\n",
              "      <td>Acting</td>\n",
              "      <td>Michael J. Fox</td>\n",
              "      <td>Acting, Comedy &amp; Music</td>\n",
              "    </tr>\n",
              "    <tr>\n",
              "      <th>1</th>\n",
              "      <td>1999</td>\n",
              "      <td>Comedian</td>\n",
              "      <td>1/12/99</td>\n",
              "      <td>Comedy</td>\n",
              "      <td>Sandra Bernhard</td>\n",
              "      <td>Acting, Comedy &amp; Music</td>\n",
              "    </tr>\n",
              "    <tr>\n",
              "      <th>2</th>\n",
              "      <td>1999</td>\n",
              "      <td>television actress</td>\n",
              "      <td>1/13/99</td>\n",
              "      <td>Acting</td>\n",
              "      <td>Tracey Ullman</td>\n",
              "      <td>Acting, Comedy &amp; Music</td>\n",
              "    </tr>\n",
              "    <tr>\n",
              "      <th>3</th>\n",
              "      <td>1999</td>\n",
              "      <td>film actress</td>\n",
              "      <td>1/14/99</td>\n",
              "      <td>Acting</td>\n",
              "      <td>Gillian Anderson</td>\n",
              "      <td>Acting, Comedy &amp; Music</td>\n",
              "    </tr>\n",
              "    <tr>\n",
              "      <th>4</th>\n",
              "      <td>1999</td>\n",
              "      <td>actor</td>\n",
              "      <td>1/18/99</td>\n",
              "      <td>Acting</td>\n",
              "      <td>David Alan Grier</td>\n",
              "      <td>Acting, Comedy &amp; Music</td>\n",
              "    </tr>\n",
              "  </tbody>\n",
              "</table>\n",
              "</div>"
            ],
            "text/plain": [
              "   Year GoogleKnowlege_Occupation     Show   Group             Guest  \\\n",
              "0  1999                     actor  1/11/99  Acting    Michael J. Fox   \n",
              "1  1999                  Comedian  1/12/99  Comedy   Sandra Bernhard   \n",
              "2  1999        television actress  1/13/99  Acting     Tracey Ullman   \n",
              "3  1999              film actress  1/14/99  Acting  Gillian Anderson   \n",
              "4  1999                     actor  1/18/99  Acting  David Alan Grier   \n",
              "\n",
              "               Occupation  \n",
              "0  Acting, Comedy & Music  \n",
              "1  Acting, Comedy & Music  \n",
              "2  Acting, Comedy & Music  \n",
              "3  Acting, Comedy & Music  \n",
              "4  Acting, Comedy & Music  "
            ]
          },
          "metadata": {
            "tags": []
          },
          "execution_count": 2
        }
      ]
    },
    {
      "metadata": {
        "id": "v0uxZilbTK7R",
        "colab_type": "code",
        "colab": {
          "base_uri": "https://localhost:8080/",
          "height": 102
        },
        "outputId": "7c587dd5-4054-45e2-c97b-04cdbcd9b49d"
      },
      "cell_type": "code",
      "source": [
        "df.Occupation.value_counts()"
      ],
      "execution_count": 3,
      "outputs": [
        {
          "output_type": "execute_result",
          "data": {
            "text/plain": [
              "Acting, Comedy & Music     1203\n",
              "Media                       756\n",
              "Government and Politics     384\n",
              "Other                       350\n",
              "Name: Occupation, dtype: int64"
            ]
          },
          "metadata": {
            "tags": []
          },
          "execution_count": 3
        }
      ]
    },
    {
      "metadata": {
        "id": "gR7_xUijT4Po",
        "colab_type": "code",
        "colab": {
          "base_uri": "https://localhost:8080/",
          "height": 680
        },
        "outputId": "45e02a87-8bd7-4ab8-b0a4-3943c555b22e"
      },
      "cell_type": "code",
      "source": [
        "normal_crosstab = pd.crosstab(df['Year'], df['Occupation'], normalize='index')\n",
        "print(normal_crosstab)\n"
      ],
      "execution_count": 11,
      "outputs": [
        {
          "output_type": "stream",
          "text": [
            "Occupation  Acting, Comedy & Music  Government and Politics     Media  \\\n",
            "Year                                                                    \n",
            "1999                      0.903614                 0.012048  0.066265   \n",
            "2000                      0.739645                 0.082840  0.124260   \n",
            "2001                      0.726115                 0.038217  0.197452   \n",
            "2002                      0.622642                 0.069182  0.264151   \n",
            "2003                      0.560241                 0.102410  0.246988   \n",
            "2004                      0.384146                 0.225610  0.274390   \n",
            "2005                      0.370370                 0.160494  0.333333   \n",
            "2006                      0.360248                 0.192547  0.291925   \n",
            "2007                      0.255319                 0.170213  0.333333   \n",
            "2008                      0.207317                 0.201220  0.469512   \n",
            "2009                      0.208589                 0.208589  0.361963   \n",
            "2010                      0.351515                 0.181818  0.303030   \n",
            "2011                      0.337423                 0.165644  0.312883   \n",
            "2012                      0.268293                 0.201220  0.317073   \n",
            "2013                      0.427711                 0.126506  0.307229   \n",
            "2014                      0.392638                 0.128834  0.325153   \n",
            "2015                      0.450000                 0.170000  0.240000   \n",
            "\n",
            "Occupation     Other  \n",
            "Year                  \n",
            "1999        0.018072  \n",
            "2000        0.053254  \n",
            "2001        0.038217  \n",
            "2002        0.044025  \n",
            "2003        0.090361  \n",
            "2004        0.115854  \n",
            "2005        0.135802  \n",
            "2006        0.155280  \n",
            "2007        0.241135  \n",
            "2008        0.121951  \n",
            "2009        0.220859  \n",
            "2010        0.163636  \n",
            "2011        0.184049  \n",
            "2012        0.213415  \n",
            "2013        0.138554  \n",
            "2014        0.153374  \n",
            "2015        0.140000  \n"
          ],
          "name": "stdout"
        }
      ]
    },
    {
      "metadata": {
        "id": "Nqf9oJJDDu-d",
        "colab_type": "text"
      },
      "cell_type": "markdown",
      "source": [
        "# Part 2 — Recreate this explanatory visualization:"
      ]
    },
    {
      "metadata": {
        "id": "scozkHQc0_eD",
        "colab_type": "code",
        "outputId": "f209f967-b2da-40ec-b0c0-27ecd0754a1f",
        "colab": {
          "base_uri": "https://localhost:8080/",
          "height": 406
        }
      },
      "cell_type": "code",
      "source": [
        "from IPython.display import display, Image\n",
        "url = 'https://fivethirtyeight.com/wp-content/uploads/2015/08/hickey-datalab-dailyshow.png'\n",
        "example = Image(url, width=500)\n",
        "display(example)"
      ],
      "execution_count": 5,
      "outputs": [
        {
          "output_type": "display_data",
          "data": {
            "image/png": "[encoded data removed]",
            "text/plain": [
              "<IPython.core.display.Image object>"
            ]
          },
          "metadata": {
            "tags": [],
            "image/png": {
              "width": 500
            }
          }
        }
      ]
    },
    {
      "metadata": {
        "id": "W7lw3JzAE6BJ",
        "colab_type": "text"
      },
      "cell_type": "markdown",
      "source": [
        "**Hint:** use the crosstab you calculated in part 1!\n",
        "\n",
        "**Expectations:** Your plot should include:\n",
        "- 3 lines visualizing \"occupation of guests, by year.\" The shapes of the lines should look roughly identical to 538's example. Each line should be a different color. (But you don't need to use the _same_ colors as 538.)\n",
        "- Legend or labels for the lines. (But you don't need each label positioned next to its line or colored like 538.)\n",
        "- Title in the upper left: _\"Who Got To Be On 'The Daily Show'?\"_ with more visual emphasis than the subtitle. (Bolder and/or larger font.)\n",
        "- Subtitle underneath the title: _\"Occupation of guests, by year\"_\n",
        "\n",
        "Any visual element not specifically mentioned in the expectations is an optional bonus, but it's _not_ required to pass the Sprint Challenge.\n",
        "\n",
        "\n",
        "\n",
        "\n"
      ]
    },
    {
      "metadata": {
        "id": "Yb0cncujakdr",
        "colab_type": "code",
        "colab": {
          "base_uri": "https://localhost:8080/",
          "height": 187
        },
        "outputId": "ab9ab2a7-f78f-4035-de41-8137c6cc9da2"
      },
      "cell_type": "code",
      "source": [
        "!pip install --upgrade seaborn"
      ],
      "execution_count": 6,
      "outputs": [
        {
          "output_type": "stream",
          "text": [
            "Requirement already up-to-date: seaborn in /usr/local/lib/python3.6/dist-packages (0.9.0)\n",
            "Requirement already satisfied, skipping upgrade: numpy>=1.9.3 in /usr/local/lib/python3.6/dist-packages (from seaborn) (1.14.6)\n",
            "Requirement already satisfied, skipping upgrade: scipy>=0.14.0 in /usr/local/lib/python3.6/dist-packages (from seaborn) (1.1.0)\n",
            "Requirement already satisfied, skipping upgrade: matplotlib>=1.4.3 in /usr/local/lib/python3.6/dist-packages (from seaborn) (2.1.2)\n",
            "Requirement already satisfied, skipping upgrade: pandas>=0.15.2 in /usr/local/lib/python3.6/dist-packages (from seaborn) (0.22.0)\n",
            "Requirement already satisfied, skipping upgrade: python-dateutil>=2.1 in /usr/local/lib/python3.6/dist-packages (from matplotlib>=1.4.3->seaborn) (2.5.3)\n",
            "Requirement already satisfied, skipping upgrade: cycler>=0.10 in /usr/local/lib/python3.6/dist-packages (from matplotlib>=1.4.3->seaborn) (0.10.0)\n",
            "Requirement already satisfied, skipping upgrade: six>=1.10 in /usr/local/lib/python3.6/dist-packages (from matplotlib>=1.4.3->seaborn) (1.11.0)\n",
            "Requirement already satisfied, skipping upgrade: pytz in /usr/local/lib/python3.6/dist-packages (from matplotlib>=1.4.3->seaborn) (2018.7)\n",
            "Requirement already satisfied, skipping upgrade: pyparsing!=2.0.4,!=2.1.2,!=2.1.6,>=2.0.1 in /usr/local/lib/python3.6/dist-packages (from matplotlib>=1.4.3->seaborn) (2.3.0)\n"
          ],
          "name": "stdout"
        }
      ]
    },
    {
      "metadata": {
        "id": "nBvf-ToQanXx",
        "colab_type": "code",
        "colab": {
          "base_uri": "https://localhost:8080/",
          "height": 34
        },
        "outputId": "a7ba8a0a-c6ce-4c10-8deb-5acbf62ff8a4"
      },
      "cell_type": "code",
      "source": [
        "import seaborn as sns\n",
        "sns.__version__"
      ],
      "execution_count": 7,
      "outputs": [
        {
          "output_type": "execute_result",
          "data": {
            "text/plain": [
              "'0.9.0'"
            ]
          },
          "metadata": {
            "tags": []
          },
          "execution_count": 7
        }
      ]
    },
    {
      "metadata": {
        "id": "21ug3_x9a5BR",
        "colab_type": "code",
        "colab": {
          "base_uri": "https://localhost:8080/",
          "height": 235
        },
        "outputId": "92532960-80e6-457d-b711-1f484b82cd11"
      },
      "cell_type": "code",
      "source": [
        "normal_crosstab.head()"
      ],
      "execution_count": 12,
      "outputs": [
        {
          "output_type": "execute_result",
          "data": {
            "text/html": [
              "<div>\n",
              "<style scoped>\n",
              "    .dataframe tbody tr th:only-of-type {\n",
              "        vertical-align: middle;\n",
              "    }\n",
              "\n",
              "    .dataframe tbody tr th {\n",
              "        vertical-align: top;\n",
              "    }\n",
              "\n",
              "    .dataframe thead th {\n",
              "        text-align: right;\n",
              "    }\n",
              "</style>\n",
              "<table border=\"1\" class=\"dataframe\">\n",
              "  <thead>\n",
              "    <tr style=\"text-align: right;\">\n",
              "      <th>Occupation</th>\n",
              "      <th>Acting, Comedy &amp; Music</th>\n",
              "      <th>Government and Politics</th>\n",
              "      <th>Media</th>\n",
              "      <th>Other</th>\n",
              "    </tr>\n",
              "    <tr>\n",
              "      <th>Year</th>\n",
              "      <th></th>\n",
              "      <th></th>\n",
              "      <th></th>\n",
              "      <th></th>\n",
              "    </tr>\n",
              "  </thead>\n",
              "  <tbody>\n",
              "    <tr>\n",
              "      <th>1999</th>\n",
              "      <td>0.903614</td>\n",
              "      <td>0.012048</td>\n",
              "      <td>0.066265</td>\n",
              "      <td>0.018072</td>\n",
              "    </tr>\n",
              "    <tr>\n",
              "      <th>2000</th>\n",
              "      <td>0.739645</td>\n",
              "      <td>0.082840</td>\n",
              "      <td>0.124260</td>\n",
              "      <td>0.053254</td>\n",
              "    </tr>\n",
              "    <tr>\n",
              "      <th>2001</th>\n",
              "      <td>0.726115</td>\n",
              "      <td>0.038217</td>\n",
              "      <td>0.197452</td>\n",
              "      <td>0.038217</td>\n",
              "    </tr>\n",
              "    <tr>\n",
              "      <th>2002</th>\n",
              "      <td>0.622642</td>\n",
              "      <td>0.069182</td>\n",
              "      <td>0.264151</td>\n",
              "      <td>0.044025</td>\n",
              "    </tr>\n",
              "    <tr>\n",
              "      <th>2003</th>\n",
              "      <td>0.560241</td>\n",
              "      <td>0.102410</td>\n",
              "      <td>0.246988</td>\n",
              "      <td>0.090361</td>\n",
              "    </tr>\n",
              "  </tbody>\n",
              "</table>\n",
              "</div>"
            ],
            "text/plain": [
              "Occupation  Acting, Comedy & Music  Government and Politics     Media  \\\n",
              "Year                                                                    \n",
              "1999                      0.903614                 0.012048  0.066265   \n",
              "2000                      0.739645                 0.082840  0.124260   \n",
              "2001                      0.726115                 0.038217  0.197452   \n",
              "2002                      0.622642                 0.069182  0.264151   \n",
              "2003                      0.560241                 0.102410  0.246988   \n",
              "\n",
              "Occupation     Other  \n",
              "Year                  \n",
              "1999        0.018072  \n",
              "2000        0.053254  \n",
              "2001        0.038217  \n",
              "2002        0.044025  \n",
              "2003        0.090361  "
            ]
          },
          "metadata": {
            "tags": []
          },
          "execution_count": 12
        }
      ]
    },
    {
      "metadata": {
        "id": "f0t6RAqnfNGH",
        "colab_type": "code",
        "colab": {
          "base_uri": "https://localhost:8080/",
          "height": 297
        },
        "outputId": "8a7e9c51-013c-43d9-94a5-791d2130e7c1"
      },
      "cell_type": "code",
      "source": [
        "normal_crosstab.describe()"
      ],
      "execution_count": 83,
      "outputs": [
        {
          "output_type": "execute_result",
          "data": {
            "text/html": [
              "<div>\n",
              "<style scoped>\n",
              "    .dataframe tbody tr th:only-of-type {\n",
              "        vertical-align: middle;\n",
              "    }\n",
              "\n",
              "    .dataframe tbody tr th {\n",
              "        vertical-align: top;\n",
              "    }\n",
              "\n",
              "    .dataframe thead th {\n",
              "        text-align: right;\n",
              "    }\n",
              "</style>\n",
              "<table border=\"1\" class=\"dataframe\">\n",
              "  <thead>\n",
              "    <tr style=\"text-align: right;\">\n",
              "      <th>Occupation</th>\n",
              "      <th>Acting, Comedy &amp; Music</th>\n",
              "      <th>Government and Politics</th>\n",
              "      <th>Media</th>\n",
              "      <th>Other</th>\n",
              "    </tr>\n",
              "  </thead>\n",
              "  <tbody>\n",
              "    <tr>\n",
              "      <th>count</th>\n",
              "      <td>17.000000</td>\n",
              "      <td>17.000000</td>\n",
              "      <td>17.000000</td>\n",
              "      <td>17.000000</td>\n",
              "    </tr>\n",
              "    <tr>\n",
              "      <th>mean</th>\n",
              "      <td>0.445049</td>\n",
              "      <td>0.143376</td>\n",
              "      <td>0.280526</td>\n",
              "      <td>0.131049</td>\n",
              "    </tr>\n",
              "    <tr>\n",
              "      <th>std</th>\n",
              "      <td>0.200067</td>\n",
              "      <td>0.062983</td>\n",
              "      <td>0.091498</td>\n",
              "      <td>0.065698</td>\n",
              "    </tr>\n",
              "    <tr>\n",
              "      <th>min</th>\n",
              "      <td>0.207317</td>\n",
              "      <td>0.012048</td>\n",
              "      <td>0.066265</td>\n",
              "      <td>0.018072</td>\n",
              "    </tr>\n",
              "    <tr>\n",
              "      <th>25%</th>\n",
              "      <td>0.337423</td>\n",
              "      <td>0.102410</td>\n",
              "      <td>0.246988</td>\n",
              "      <td>0.090361</td>\n",
              "    </tr>\n",
              "    <tr>\n",
              "      <th>50%</th>\n",
              "      <td>0.384146</td>\n",
              "      <td>0.165644</td>\n",
              "      <td>0.303030</td>\n",
              "      <td>0.138554</td>\n",
              "    </tr>\n",
              "    <tr>\n",
              "      <th>75%</th>\n",
              "      <td>0.560241</td>\n",
              "      <td>0.192547</td>\n",
              "      <td>0.325153</td>\n",
              "      <td>0.163636</td>\n",
              "    </tr>\n",
              "    <tr>\n",
              "      <th>max</th>\n",
              "      <td>0.903614</td>\n",
              "      <td>0.225610</td>\n",
              "      <td>0.469512</td>\n",
              "      <td>0.241135</td>\n",
              "    </tr>\n",
              "  </tbody>\n",
              "</table>\n",
              "</div>"
            ],
            "text/plain": [
              "Occupation  Acting, Comedy & Music  Government and Politics      Media  \\\n",
              "count                    17.000000                17.000000  17.000000   \n",
              "mean                      0.445049                 0.143376   0.280526   \n",
              "std                       0.200067                 0.062983   0.091498   \n",
              "min                       0.207317                 0.012048   0.066265   \n",
              "25%                       0.337423                 0.102410   0.246988   \n",
              "50%                       0.384146                 0.165644   0.303030   \n",
              "75%                       0.560241                 0.192547   0.325153   \n",
              "max                       0.903614                 0.225610   0.469512   \n",
              "\n",
              "Occupation      Other  \n",
              "count       17.000000  \n",
              "mean         0.131049  \n",
              "std          0.065698  \n",
              "min          0.018072  \n",
              "25%          0.090361  \n",
              "50%          0.138554  \n",
              "75%          0.163636  \n",
              "max          0.241135  "
            ]
          },
          "metadata": {
            "tags": []
          },
          "execution_count": 83
        }
      ]
    },
    {
      "metadata": {
        "id": "oCRrAxFUqCcw",
        "colab_type": "code",
        "colab": {
          "base_uri": "https://localhost:8080/",
          "height": 323
        },
        "outputId": "2d4fb9e5-dade-4ac5-ff06-c768610cda73"
      },
      "cell_type": "code",
      "source": [
        "normal_crosstab.Other.value_counts()"
      ],
      "execution_count": 84,
      "outputs": [
        {
          "output_type": "execute_result",
          "data": {
            "text/plain": [
              "0.241135    1\n",
              "0.038217    1\n",
              "0.115854    1\n",
              "0.213415    1\n",
              "0.044025    1\n",
              "0.220859    1\n",
              "0.121951    1\n",
              "0.053254    1\n",
              "0.138554    1\n",
              "0.018072    1\n",
              "0.153374    1\n",
              "0.184049    1\n",
              "0.163636    1\n",
              "0.135802    1\n",
              "0.140000    1\n",
              "0.090361    1\n",
              "0.155280    1\n",
              "Name: Other, dtype: int64"
            ]
          },
          "metadata": {
            "tags": []
          },
          "execution_count": 84
        }
      ]
    },
    {
      "metadata": {
        "id": "SdfSfssMpYig",
        "colab_type": "code",
        "colab": {
          "base_uri": "https://localhost:8080/",
          "height": 235
        },
        "outputId": "5bd55a90-51d0-4358-cbb5-fee157bfdc1b"
      },
      "cell_type": "code",
      "source": [
        "dropped_crosstab = normal_crosstab.drop(columns=['Other'])\n",
        "dropped_crosstab.head()"
      ],
      "execution_count": 85,
      "outputs": [
        {
          "output_type": "execute_result",
          "data": {
            "text/html": [
              "<div>\n",
              "<style scoped>\n",
              "    .dataframe tbody tr th:only-of-type {\n",
              "        vertical-align: middle;\n",
              "    }\n",
              "\n",
              "    .dataframe tbody tr th {\n",
              "        vertical-align: top;\n",
              "    }\n",
              "\n",
              "    .dataframe thead th {\n",
              "        text-align: right;\n",
              "    }\n",
              "</style>\n",
              "<table border=\"1\" class=\"dataframe\">\n",
              "  <thead>\n",
              "    <tr style=\"text-align: right;\">\n",
              "      <th>Occupation</th>\n",
              "      <th>Acting, Comedy &amp; Music</th>\n",
              "      <th>Government and Politics</th>\n",
              "      <th>Media</th>\n",
              "    </tr>\n",
              "    <tr>\n",
              "      <th>Year</th>\n",
              "      <th></th>\n",
              "      <th></th>\n",
              "      <th></th>\n",
              "    </tr>\n",
              "  </thead>\n",
              "  <tbody>\n",
              "    <tr>\n",
              "      <th>1999</th>\n",
              "      <td>0.903614</td>\n",
              "      <td>0.012048</td>\n",
              "      <td>0.066265</td>\n",
              "    </tr>\n",
              "    <tr>\n",
              "      <th>2000</th>\n",
              "      <td>0.739645</td>\n",
              "      <td>0.082840</td>\n",
              "      <td>0.124260</td>\n",
              "    </tr>\n",
              "    <tr>\n",
              "      <th>2001</th>\n",
              "      <td>0.726115</td>\n",
              "      <td>0.038217</td>\n",
              "      <td>0.197452</td>\n",
              "    </tr>\n",
              "    <tr>\n",
              "      <th>2002</th>\n",
              "      <td>0.622642</td>\n",
              "      <td>0.069182</td>\n",
              "      <td>0.264151</td>\n",
              "    </tr>\n",
              "    <tr>\n",
              "      <th>2003</th>\n",
              "      <td>0.560241</td>\n",
              "      <td>0.102410</td>\n",
              "      <td>0.246988</td>\n",
              "    </tr>\n",
              "  </tbody>\n",
              "</table>\n",
              "</div>"
            ],
            "text/plain": [
              "Occupation  Acting, Comedy & Music  Government and Politics     Media\n",
              "Year                                                                 \n",
              "1999                      0.903614                 0.012048  0.066265\n",
              "2000                      0.739645                 0.082840  0.124260\n",
              "2001                      0.726115                 0.038217  0.197452\n",
              "2002                      0.622642                 0.069182  0.264151\n",
              "2003                      0.560241                 0.102410  0.246988"
            ]
          },
          "metadata": {
            "tags": []
          },
          "execution_count": 85
        }
      ]
    },
    {
      "metadata": {
        "id": "E8XBAr8rz_Na",
        "colab_type": "code",
        "colab": {
          "base_uri": "https://localhost:8080/",
          "height": 550
        },
        "outputId": "9cd974e0-ee94-4227-bcbe-f2aa2ec2e184"
      },
      "cell_type": "code",
      "source": [
        "plt.style.use('fivethirtyeight')\n",
        "plt.rcParams['figure.figsize'] = [10,8]\n",
        "f, ax = plt.subplots()\n",
        "\n",
        "plt.plot(dropped_crosstab)\n",
        "plt.title(\"Who Got To Be On 'The Daily Show'? \\nOccupation of guests, by year\", fontsize=16, fontweight='bold', loc='left');\n",
        "\n",
        "plt.annotate('Acting, Comedy & Music', xy=(2002, 0.8))\n",
        "plt.annotate('Media', xy=(2007, 0.5))\n",
        "plt.annotate('Government and Politics', xy=(2011, 0.08));\n",
        "\n",
        "#plt.gca().set_yticklabels(['{:.0f}%'.format(x*100/100) for x in plt.gca().get_yticks()])  \n",
        "ax.set_yticks(yticks)\n",
        "ax.set_yticklabels(yticklabels, fontsize=14);\n",
        "yticks=[0, 0.25, 0.50, .75, 1]\n",
        "yticklabels = ['0', '25', '50', '75', '100%']"
      ],
      "execution_count": 100,
      "outputs": [
        {
          "output_type": "display_data",
          "data": {
            "image/png": "[encoded data removed]",
            "text/plain": [
              "<matplotlib.figure.Figure at 0x7f731bd8ac88>"
            ]
          },
          "metadata": {
            "tags": []
          }
        }
      ]
    },
    {
      "metadata": {
        "id": "LuacMjSf2ses",
        "colab_type": "text"
      },
      "cell_type": "markdown",
      "source": [
        "# Part 3 — Who were the top 10 guests on _The Daily Show_?\n",
        "\n",
        "**Make a plot** that shows their names and number of appearances.\n",
        "\n",
        "**Hint:** you can use the pandas `value_counts` method.\n",
        "\n",
        "**Expectations:** This can be a simple, quick plot: exploratory, not explanatory. \n",
        "\n",
        "If you want, you can add titles and change aesthetics, but it's _not_ required to pass the Sprint Challenge."
      ]
    },
    {
      "metadata": {
        "id": "tbwfBN3HsFlh",
        "colab_type": "code",
        "colab": {
          "base_uri": "https://localhost:8080/",
          "height": 204
        },
        "outputId": "99557fc9-0841-4be5-d54f-d90bf71e27d6"
      },
      "cell_type": "code",
      "source": [
        "top_ten = df.Guest.value_counts().nlargest(10)\n",
        "print(top_ten)"
      ],
      "execution_count": 22,
      "outputs": [
        {
          "output_type": "stream",
          "text": [
            "Fareed Zakaria    19\n",
            "Denis Leary       17\n",
            "Brian Williams    16\n",
            "Paul Rudd         13\n",
            "Ricky Gervais     13\n",
            "Tom Brokaw        12\n",
            "Reza Aslan        10\n",
            "Bill O'Reilly     10\n",
            "Will Ferrell      10\n",
            "Richard Lewis     10\n",
            "Name: Guest, dtype: int64\n"
          ],
          "name": "stdout"
        }
      ]
    },
    {
      "metadata": {
        "id": "tv41P8x1cPDm",
        "colab_type": "code",
        "colab": {
          "base_uri": "https://localhost:8080/",
          "height": 347
        },
        "outputId": "806716b7-a05d-4e2f-b998-7c4c71dbcdbe"
      },
      "cell_type": "code",
      "source": [
        "top_ten.plot(kind='bar', ylim=(0,20), yticks=[2, 4, 6, 8, 10, 12, 14, 16, 18, 20], grid=True)\n",
        "plt.title(\"Top 10 guests on The Daily Show\");\n"
      ],
      "execution_count": 33,
      "outputs": [
        {
          "output_type": "display_data",
          "data": {
            "image/png": "[encoded data removed]",
            "text/plain": [
              "<matplotlib.figure.Figure at 0x7f731dbe2cc0>"
            ]
          },
          "metadata": {
            "tags": []
          }
        }
      ]
    }
  ]
}